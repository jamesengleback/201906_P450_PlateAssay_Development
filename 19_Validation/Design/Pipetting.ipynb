{
 "cells": [
  {
   "cell_type": "code",
   "execution_count": 9,
   "metadata": {},
   "outputs": [
    {
     "name": "stdout",
     "output_type": "stream",
     "text": [
      "Add 200.0 ul of triton to 20 ml KPi\n",
      "Add 136.19 ul of protein to 10 ml Buffer\n"
     ]
    }
   ],
   "source": [
    "import pandas as pd\n",
    "\n",
    "def V1(v2,C1,C2):\n",
    "    return (C2*v2)/C1\n",
    "\n",
    "TritonConc = 10 # %\n",
    "ProteinConc = 734.262 #um\n",
    "\n",
    "print('Add {} ul of triton to 20 ml KPi'.format(V1(20_000,TritonConc,0.1)))\n",
    "print('Add {} ul of protein to 10 ml Buffer'.format(round(V1(10_000,ProteinConc,10),2)))"
   ]
  },
  {
   "cell_type": "code",
   "execution_count": 11,
   "metadata": {},
   "outputs": [
    {
     "data": {
      "text/plain": [
       "68.095"
      ]
     },
     "execution_count": 11,
     "metadata": {},
     "output_type": "execute_result"
    }
   ],
   "source": [
    "136.19/2"
   ]
  }
 ],
 "metadata": {
  "kernelspec": {
   "display_name": "Python 3",
   "language": "python",
   "name": "python3"
  },
  "language_info": {
   "codemirror_mode": {
    "name": "ipython",
    "version": 3
   },
   "file_extension": ".py",
   "mimetype": "text/x-python",
   "name": "python",
   "nbconvert_exporter": "python",
   "pygments_lexer": "ipython3",
   "version": "3.7.3"
  }
 },
 "nbformat": 4,
 "nbformat_minor": 2
}
