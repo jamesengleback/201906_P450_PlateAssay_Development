import pandas as pd
import numpy as np
import matplotlib.pyplot as plt
import os

from Titration import SpecData

folder = pd.Series(os.listdir()) # so I can regex easily
folder = folder.loc[folder.str.contains('_Titration')]
folder = folder.loc[folder.str.contains('csv')]

output = pd.DataFrame([],columns = ['Km','Vmax','R Squared'])

for i in folder:
    print(i)
    titration = SpecData(i)
    titration.plot_traces(titration.data)
    titration.plot_traces(titration.Diff)
    titration.PlotMichaelesMenten()
    km, vmax, loss = titration.FitMichaelisMenten()
    temp = pd.DataFrame([[km.item(), vmax.item(), loss.item()]],columns = ['Km','Vmax','R Squared'],index = [i])
    output = output.append(temp)

output['R Squared'] = 1 - output['R Squared']
output.to_csv('TitrationMetrics.csv')


output
