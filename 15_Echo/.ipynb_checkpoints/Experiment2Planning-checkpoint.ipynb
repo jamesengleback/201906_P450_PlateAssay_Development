{
 "cells": [
  {
   "cell_type": "code",
   "execution_count": 2,
   "metadata": {},
   "outputs": [],
   "source": [
    "import pandas as pd\n",
    "import numpy as np\n",
    "import matplotlib.pyplot as plt\n",
    "import string\n",
    "\n",
    "from EchoXMLGenerator import Generate, WellIDtoNumber\n",
    "from Experiment_2Gen import MakeCompound_Vols, CalcConc\n",
    "\n",
    "df = pd.DataFrame([],columns=['SrcID','DestID', 'Volume'])\n",
    "info = pd.DataFrame([],columns=['blocks','k_values','sourcewells'])\n",
    "blocks = np.arange(1,9)\n",
    "\n",
    "#make source wells\n",
    "compounds = {'A1':'DMSO','A2':'DMSO','A3':'DMSO','A4':'DMSO',\n",
    "'B1':'Arachadionic acid','B2':'Arachadionic acid','B3':'Arachadionic acid','B4':'Arachadionic acid'}\n",
    "\n",
    "\n",
    "def Dispense(Block,cpd_vols, DMSO_vols,CPDsourceWell, DMSOsourceWell):\n",
    "    rows = dict((number,letter) for letter,number in zip(string.ascii_uppercase,range(1,17)))\n",
    "    if Block%2!=0:\n",
    "        blockRows = [rows.get(i) for i in range(1,9)]\n",
    "        blockCols = (Block,Block+1)\n",
    "    else:\n",
    "        blockRows = [rows.get(i) for i in range(9,17)]\n",
    "        blockCols = (Block-1,Block)\n",
    "    df = pd.DataFrame([],columns=['SrcID','DestID', 'Volume'])\n",
    "    \n",
    "    CPDsourceWell=WellIDtoNumber(CPDsourceWell)\n",
    "    DMSOsourceWell=WellIDtoNumber(DMSOsourceWell)\n",
    "\n",
    "    for i,j,k in zip(cpd_vols,DMSO_vols,blockRows):\n",
    "        dest_1 = WellIDtoNumber(k + str(blockCols[0]))\n",
    "        dest_2 = WellIDtoNumber(k + str(blockCols[1]))\n",
    "\n",
    "        temp=pd.DataFrame([[CPDsourceWell,dest_1,i],\n",
    "                            [CPDsourceWell,dest_2,i],\n",
    "                            [DMSOsourceWell,dest_1,j],\n",
    "                            [DMSOsourceWell,dest_2,j]],columns=['SrcID','DestID', 'Volume'])\n",
    "        df=df.append(temp)\n",
    "    return df.reset_index(drop=True)\n"
   ]
  },
  {
   "cell_type": "code",
   "execution_count": 9,
   "metadata": {},
   "outputs": [
    {
     "ename": "KeyError",
     "evalue": "12",
     "output_type": "error",
     "traceback": [
      "\u001b[0;31m---------------------------------------------------------------------------\u001b[0m",
      "\u001b[0;31mKeyError\u001b[0m                                  Traceback (most recent call last)",
      "\u001b[0;32m<ipython-input-9-d3e5c87c9ddf>\u001b[0m in \u001b[0;36m<module>\u001b[0;34m\u001b[0m\n\u001b[1;32m      9\u001b[0m \u001b[0;34m\u001b[0m\u001b[0m\n\u001b[1;32m     10\u001b[0m \u001b[0;32mfor\u001b[0m \u001b[0mblock\u001b[0m\u001b[0;34m,\u001b[0m \u001b[0msource\u001b[0m\u001b[0;34m,\u001b[0m \u001b[0mdestination\u001b[0m \u001b[0;32min\u001b[0m \u001b[0mzip\u001b[0m\u001b[0;34m(\u001b[0m\u001b[0mrange\u001b[0m\u001b[0;34m(\u001b[0m\u001b[0;36m1\u001b[0m\u001b[0;34m,\u001b[0m\u001b[0;36m13\u001b[0m\u001b[0;34m)\u001b[0m\u001b[0;34m,\u001b[0m\u001b[0msources\u001b[0m\u001b[0;34m,\u001b[0m \u001b[0mdestinations\u001b[0m\u001b[0;34m)\u001b[0m\u001b[0;34m:\u001b[0m\u001b[0;34m\u001b[0m\u001b[0;34m\u001b[0m\u001b[0m\n\u001b[0;32m---> 11\u001b[0;31m     \u001b[0mCPD_vol\u001b[0m\u001b[0;34m,\u001b[0m \u001b[0mDMSO_Vol\u001b[0m \u001b[0;34m=\u001b[0m \u001b[0mMakeCompound_Vols\u001b[0m\u001b[0;34m(\u001b[0m\u001b[0mBlock_DMSO_Concs\u001b[0m\u001b[0;34m[\u001b[0m\u001b[0mblock\u001b[0m\u001b[0;34m]\u001b[0m\u001b[0;34m)\u001b[0m\u001b[0;34m\u001b[0m\u001b[0;34m\u001b[0m\u001b[0m\n\u001b[0m\u001b[1;32m     12\u001b[0m     \u001b[0moutput\u001b[0m\u001b[0;34m=\u001b[0m\u001b[0moutput\u001b[0m\u001b[0;34m.\u001b[0m\u001b[0mappend\u001b[0m\u001b[0;34m(\u001b[0m\u001b[0mDispense\u001b[0m\u001b[0;34m(\u001b[0m\u001b[0mblock\u001b[0m\u001b[0;34m,\u001b[0m \u001b[0mCPD_vol\u001b[0m\u001b[0;34m,\u001b[0m \u001b[0mDMSO_Vol\u001b[0m\u001b[0;34m,\u001b[0m \u001b[0msource\u001b[0m\u001b[0;34m,\u001b[0m\u001b[0mdestination\u001b[0m\u001b[0;34m)\u001b[0m\u001b[0;34m)\u001b[0m\u001b[0;34m\u001b[0m\u001b[0;34m\u001b[0m\u001b[0m\n\u001b[1;32m     13\u001b[0m \u001b[0;34m\u001b[0m\u001b[0m\n",
      "\u001b[0;31mKeyError\u001b[0m: 12"
     ]
    }
   ],
   "source": [
    "Block_DMSO_Concs = {1:0.01,2:0.01,3:0.01,\n",
    "                   3:0.02, 4:0.02,5:0.02,\n",
    "                   6:0.03,7:0.03,8:0.03,\n",
    "                   9:0.04,10:0.04,11:0.04}\n",
    "sources = ['A1']*3 + ['A2']*3 + ['A3']*3 + ['A4']*3\n",
    "destinations = ['B1']*3 + ['B2']*3 + ['B3']*3 + ['B4']*3\n",
    "\n",
    "output=pd.DataFrame([],columns=['SrcID','DestID','Volume'])\n",
    "\n",
    "for block, source, destination in zip(range(1,12),sources, destinations):\n",
    "    CPD_vol, DMSO_Vol = MakeCompound_Vols(Block_DMSO_Concs[block])\n",
    "    output=output.append(Dispense(block, CPD_vol, DMSO_Vol, source,destination))\n",
    "    \n",
    "output.reset_index(drop=True,inplace=True)\n",
    "\n",
    "print([output.loc[output['SrcID']==i]['Volume'].sum() for i in output['SrcID'].unique()])\n",
    "#Generate(output)\n",
    "len(output['DestID'].unique())/16"
   ]
  }
 ],
 "metadata": {
  "kernelspec": {
   "display_name": "Python 3",
   "language": "python",
   "name": "python3"
  },
  "language_info": {
   "codemirror_mode": {
    "name": "ipython",
    "version": 3
   },
   "file_extension": ".py",
   "mimetype": "text/x-python",
   "name": "python",
   "nbconvert_exporter": "python",
   "pygments_lexer": "ipython3",
   "version": "3.7.3"
  }
 },
 "nbformat": 4,
 "nbformat_minor": 2
}
