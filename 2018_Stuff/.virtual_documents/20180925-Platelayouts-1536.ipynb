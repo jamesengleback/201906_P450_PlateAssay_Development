import pandas as pd
import numpy as np
import matplotlib.pyplot as plt
import string


data = pd.read_csv('20180924-FullFatDesign1536.csv').drop(['Pattern', 'Y'],
         axis = 1)

def calc(v2, concs, power):
    x = np.linspace(0,1, concs)
    x = np.power(x,power)
    x = x/x.max()*500   #normalize from 0-1, multiply by 200 =(500/2.5)
    x = pd.DataFrame(x) #conc in µM
    v1 =(v2*x)/10 # nl
    v1 = np.ceil(v1/2.5)*2.5
    return v1


alphabet =pd.Series(list(string.ascii_lowercase) + ['a' + i for i in list(string.ascii_lowercase)[0:6]])

wells = pd.Series()
for i in range(1,49):
    wells = wells.append(alphabet + str(i))
wells = wells.reset_index(drop = True)


reps = 4
newdata = pd.DataFrame()

for i in range(0, reps):
    newdata = newdata.append(data)
newdata = newdata.sort_values(['[Prot]/µM']) #make version of data with replicates
newdata['Vol/µl'] = 10

newdata = newdata.reset_index()
newdata['index'] = newdata.index

temp = pd.DataFrame() # temporary thing
newdata = newdata.reset_index(drop = True) #yeeeeeeaap
for i in range(0,len(newdata)): ##replicate each experimental run by number of concentrations
    for j in range(0,newdata.loc[i,'No. concs']):
        temp = temp.append([newdata.loc[i]])

##### actually the temp has become the main thing now that it has everything        
temp = temp.reset_index(drop = True)

temp = temp.sort_values(['[Prot]/µM']).reset_index(drop = True)

Vols = pd.Series(name = 'Volumes')

### makes a separate list of concentrations from 'newdata', which is just 'data' exploded by the N reps
for i in range(0,len(newdata)):
    v2 = (newdata.loc[i]['Vol/µl'])
    concs = (newdata.loc[i]['No. concs'])
    power = (newdata.loc[i]['Power'])
    vols = calc(v2, concs, power)
    Vols = Vols.append(vols)
    
Vols.columns = ['Substrate/nl']
Vols = Vols.reset_index(drop = True)

temp = pd.concat([temp, Vols],
         axis = 1,
         join = 'inner')


temp





temp2 = temp[temp['[Prot]/µM'] == 2]
temp2 = temp2.append(pd.DataFrame(np.zeros(shape = (16,6)),
                    columns = temp.columns)).reset_index(drop = True)


temp2 = temp2.append(temp[temp['[Prot]/µM'] == 6])

temp2 = temp2.append(temp[temp['[Prot]/µM'] == 10])


zeros = pd.DataFrame(np.zeros(shape = (1536-len(temp2),6)),
                    columns = temp2.columns)



temp2 = temp2.append(zeros,
                  sort  = True).reset_index(drop = True)

layout = pd.concat([wells, temp2],
         axis = 1,
         join = 'inner')
layout





plt.set_cmap('inferno')
f, (ax1, ax2, ax3) = plt.subplots(1, 3, sharey=True)

maparr = []
for i in layout['Substrate/nl']:
    maparr = np.append(maparr, i)
ax1.imshow(maparr.reshape(48,32))
ax1.set_title('Substrate')

#ax1.colorbar(label = 'Vol Substrate/nl')

maparr = []
for i in layout['[Prot]/µM']:
    maparr = np.append(maparr, i)
ax2.imshow(maparr.reshape(48,32))
ax2.set_title('[Prot]/µM')
#ax1.colorbar(label = 'Vol Substrate/nl')

maparr = []
for i in layout['Vol/µl']:
    maparr = np.append(maparr, i)
ax3.imshow(maparr.reshape(48,32))
ax3.set_title('Vol/µl')
#plt.colorbar(label = 'Vol/µl')
f.suptitle('1536', fontsize=16)

plt.show()





#### this just adapts the well IDs to the right sort of numbering system

nums = layout[0].str.split('([A-z]+)', expand=True)
nums[1] = pd.DataFrame([alphabet.index[alphabet == i] for i in nums[1]])[0]

nums['position'] = nums[1]*48 + nums[2].astype(int)

## file header
text = ['<?xml version="1.0"?>',
       '<TransferPlate>']

#body
arr = ['<Transfer SrcID= "'+str(layout['Source Well'][i])+'" DestID="'+ str(nums['position'][i]) +'" Volume="'+str(layout['Substrate/nl'][i])  +'" />' for i in range(0,len(layout))]
arr.append('</TransferPlate>')
#foot

#write to file
outfile = open('20180925-1536well.xml', 'w')

for i in text:
    outfile.write(i)
for i in arr:
    outfile.write(i)
outfile.close()


print('Total vol of substrate in experiment/µl: ',(sum(layout['Substrate/nl'])/1000)/10)
print('Number of test wells: ',len(layout[layout['Vol/µl']!=0]))
print()
print('576/12 = ',576/12)


src = pd.Series(np.array([j for j in [[i]*48 for i in range(1,13)]]).flatten(),
         name = 'Source Well')

layout = pd.concat([layout, src],
          join = 'inner',
          axis = 1)






layout2 = layout.drop([0], axis = 1).append(layout.drop([0], axis = 1)).reset_index(drop = True)



src = pd.Series(np.array([j for j in [[i]*48 for i in range(1,25)]]).flatten(),
         name = 'Source Well')

layout2 = pd.concat([layout2, src],
          join = 'inner',
          axis = 1)

layout2 = pd.concat([wells, layout2], 
          axis = 1)
layout2 = layout2.fillna(0)

layout2


plt.set_cmap('plasma')
f, (ax1, ax2, ax3) = plt.subplots(1, 3, sharey=True)

maparr = []
for i in layout2['Substrate/nl']:
    maparr = np.append(maparr, i)
ax1.imshow(maparr.reshape(48,32))
ax1.set_title('Substrate')

#ax1.colorbar(label = 'Vol Substrate/nl')

maparr = []
for i in layout2['[Prot]/µM']:
    maparr = np.append(maparr, i)
ax2.imshow(maparr.reshape(48,32))
ax2.set_title('[Prot]/µM')
#ax1.colorbar(label = 'Vol Substrate/nl')

maparr = []
for i in layout2['Vol/µl']:
    maparr = np.append(maparr, i)
ax3.imshow(maparr.reshape(48,32))
ax3.set_title('Vol/µl')
#plt.colorbar(label = 'Vol/µl')
f.suptitle('1536', fontsize=16)

plt.show()





#### this just adapts the well IDs to the right sort of numbering system
'''layout2 = layout2[layout2['Source Well']!=0][layout2['Substrate/nl']!=0]
nums = layout2[0].str.split('([A-z]+)', expand=True)
nums[1] = pd.DataFrame([alphabet.index[alphabet == i] for i in nums[1]])[0]

nums['position'] = nums[1]*48 + nums[2].astype(int)'''
## file header
text = ['<?xml version="1.0"?>',
       '<TransferPlate>']

#body
arr = ['<Transfer SrcID= "'+str(layout3['Source Well'][i])+'" DestID="'+ str(layout3[WellID][i]) +'" Volume="'+str(layout3['Substrate/nl'][i])  +'" />' for i in layout3.index]
arr.append('</TransferPlate>')
#foot

#write to file
outfile = open('20181004-1536well.xml', 'w')

for i in text:
    outfile.write(i)
for i in arr:
    outfile.write(i)
outfile.close()


WellID = pd.Series([alphabet[alphabet == i].index[0] for i in nums[1]], name = 'WellID')


layout3 = pd.concat([layout2, WellID],
         axis = 1,
         join = 'inner')
layout3['Source Well'] = layout3['Source Well'].astype(int)
layout3


layout3.to_csv('20181015-1536PlateLayout3.csv')
#layout.append(layout).reset_index(drop = True).to_csv('20181015-1536PlateLayoutall.csv')



print('2µM: ',sum(layout2[layout2['[Prot]/µM'] ==2]['Vol/µl']))
print('6µM: ',sum(layout2[layout2['[Prot]/µM'] ==6]['Vol/µl']))
print('10µM: ',sum(layout2[layout2['[Prot]/µM'] ==10]['Vol/µl']))


print('2µM: ',layout2[layout2['[Prot]/µM'] ==2][0].str.extract('(\d+)')[0].unique())
print()
print('6µM: ',layout2[layout2['[Prot]/µM'] ==6][0].str.extract('(\d+)')[0].unique())
print()
print('10µM: ',layout2[layout2['[Prot]/µM'] ==10][0].str.extract('(\d+)')[0].unique())


layout2[layout2['Source Well']!=0][layout2['Substrate/nl']!=0]


layout2.to_csv('20181005-1536wellLayout.csv')
