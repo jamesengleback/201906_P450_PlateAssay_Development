import pandas as pd
import numpy as np
import matplotlib.pyplot as plt

step = 2.5 # nl
maximum = 0.05 # v/v

x = np.linspace(0,12,50)
for i in np.linspace(1,10,10):
    y = np.power(x,i)
    y= y/y.max()
    plt.plot(x,y)
plt.xlabel('step')
plt.ylabel('nl added')

plt.show()

#2500 is max well


vmax = 1
km = 5
steps = 8
power = 4
###############
fig = plt.subplots(figsize=(5,5))
x = np.linspace(1,500, steps)
x = np.power(x,power)
x=x/x.max()*500
y = (vmax*x)/(km + x)
plt.scatter(x,y,
        s = 50,
           c = x**2)
x2 = np.linspace(0,500, 100)
y2 = (vmax*x2)/(km + x2)
plt.plot(x2,y2,
        color = '0.2',
        lw = 2)
plt.xlabel('[Substrate/µM]')
plt.ylabel('V')
plt.title('Kd = %d, points = %d, power = %d' %(km, steps, power)) 
#plt.axis('off')
plt.show()


steps = 12
power = 4
vol = 10 #µl

x = np.linspace(0,1, steps)
x = np.power(x,power)
x = x/x.max()*200   #normalize from 0-1, multiply by 200 =(500/2.5)
x = pd.DataFrame(x)
vols =(vol*x)/10 # nl
vols = np.ceil(vols)*2.5
vols


data = pd.read_csv('20180913-Plate assay design - Plate 1 Layout (1).csv').drop(['Pattern',
                                                                            'Shake time/s',
                                                                           'Shake speed',
                                                                            'Plate ID'], 
                                                                            axis =1)
pd.DataFrame(columns = ['vol'])

#data.loc[0,:]
'''
for i in range(0,len(data)):
    print(i)
    print(data.loc[i,'Vol/µl'])
'''
#data.append(data.loc[1,:]) 

data





data


#[i for i in data['Power']]
#[i for i in data['No.concs']]

power = 4
vol = 10 #µl

def calc(vol, No.concs, x, power):
    x = np.linspace(0,1, 	No.concs)
    x = np.power(x,power)
    x = x/x.max()*200   #normalize from 0-1, multiply by 200 =(500/2.5)
    x = pd.DataFrame(x)
    vols =(vol*x)/10 # nl
    vols = np.ceil(vols)*2.5
    return vols


calc(1,4,10, 4).loc[1]


alphabet = ['A','B','C','D','E','F','G','H','I','J','K','L','M','N','O','P']
layout = pd.DataFrame([i + str(j) for j in range(1,25) for i in alphabet], columns = ['Well'])

reps = 3
newdata = pd.DataFrame()

for i in range(0, reps):
    newdata = newdata.append(data)
newdata = newdata.sort_values(['Vol/µl','[prot]/µM']) #make version of data with replicates

arr2 = pd.DataFrame() # temporary thing
newdata = newdata.reset_index() #yeeeeeeaap

for i in range(0,len(newdata)): ##replicate each experimental run by number of concentrations
    for j in range(0,newdata.loc[i,'No.concs']):
        arr2 = arr2.append([newdata.loc[i]])
        
layout = pd.concat([layout,
                    arr2.reset_index().drop(['level_0', 'index'],
                        axis =1)],
                   axis = 1,
                   join = 'inner')
arr =[]
for i in newdata['No.concs']:
    for j in range(0,i):
        arr = np.append(arr, j)
arr = pd.Series(arr, name = 'Step')
layout['Step'] = arr
layout


from mpl_toolkits.mplot3d import Axes3D


field = 'Vol/µl'
#field = '[prot]/µM'
pic = layout.loc[1*15-15:1*15,field]
for i in range(1,24):
    pic = pd.concat([pic,
                     layout.loc[i*15-15:i*15,field].reset_index(drop = True)],
                   axis = 1,
                   join = 'inner',
                   ignore_index = True)

#plt.imshow(pic)
#plt.title(str(field))

width = depth = 1
top = pic.unstack()
bottom = bottom = np.zeros_like(top)



fig = plt.figure(figsize=(8, 3))
ax = fig.add_subplot(121, projection='3d')

ax.bar3d(yaxis, xaxis, bottom, width, depth, top, shade=True)


plt.show()


xaxis = pd.Series(range(0,24),
                 name = 'xaxis')
yaxis = pd.Series(range(0,16),
                 name = 'yaxis')

#yaxis
#np.shape(pic)
for i in range(0,23):
    yaxis = yaxis.append(pd.Series(range(0,16),
                 name = 'yaxis'))
    
for i in range(0,15):
    xaxis = xaxis.append(pd.Series(range(0,24),
                 name = 'xaxis'))
xaxis


top
