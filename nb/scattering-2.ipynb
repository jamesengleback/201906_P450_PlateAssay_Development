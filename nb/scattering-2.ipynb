{
 "cells": [
  {
   "cell_type": "code",
   "execution_count": 28,
   "id": "10517fb9-4299-4914-ac64-0f5d8a892180",
   "metadata": {},
   "outputs": [],
   "source": [
    "import os\n",
    "import re\n",
    "import json\n",
    "from tqdm.notebook import tqdm\n",
    "from textwrap import dedent\n",
    "\n",
    "import numpy as np\n",
    "import pandas as pd\n",
    "from scipy import ndimage\n",
    "from scipy import optimize \n",
    "from sklearn.preprocessing import MinMaxScaler, PowerTransformer\n",
    "\n",
    "import matplotlib.pyplot as plt\n",
    "import matplotlib.patches as mpatches\n",
    "\n",
    "import utils\n",
    "\n",
    "def scatter(w, k):\n",
    "    return np.log10(k / w**4)\n",
    "\n",
    "def r_squared(y, y_hat):\n",
    "    residuals = y - y_hat\n",
    "    ss_res = np.sum(residuals**2)\n",
    "    ss_tot = np.sum((y-np.mean(y))**2)\n",
    "    r_squared = 1 - (ss_res / ss_tot)\n",
    "    return r_squared\n",
    "\n",
    "\n",
    "root_dir_walk = os.walk('..')\n",
    "\n",
    "plate_files = []\n",
    "\n",
    "experiment_configs = {}\n",
    "\n",
    "for dirpath, dirnames, filenames in root_dir_walk:\n",
    "    if (e := re.search('\\.\\./([0-9]+)', dirpath)) is not None:\n",
    "        experiment_number = int(e.group(1))\n",
    "        data = {}\n",
    "        if 1 <= experiment_number <= 22:\n",
    "            #if experiment_number not in experiment_configs.keys():\n",
    "            for filename in filenames:\n",
    "                fpath = os.path.join(dirpath, filename)\n",
    "                if filename.split('.')[-1] == 'CSV' and 'pathlength' not in filename.lower():\n",
    "                    plate_files.append(fpath)\n",
    "                if re.search('experiment-[0-9]+-summary\\.csv', filename) is not None:\n",
    "                    data['summary_fname'] = filename \n",
    "                    data['summary_path'] = fpath\n",
    "                if re.search('config\\_[0-9]+\\.json', filename) is not None:\n",
    "                    data['config_fname'] = filename \n",
    "                    if 'config' not in data.keys():\n",
    "                        with open(fpath, 'r') as f:\n",
    "                            data['config'] = json.load(f)\n",
    "            if data != {}:\n",
    "                experiment_configs[experiment_number] = data\n",
    "\n",
    "configs_df = pd.concat([pd.read_csv(experiment_configs[i]['summary_path']) for i in experiment_configs]).reset_index(drop=True)\n"
   ]
  },
  {
   "cell_type": "code",
   "execution_count": 107,
   "id": "b3cf585b-4a5a-44c4-a7f7-1129fff86476",
   "metadata": {},
   "outputs": [
    {
     "data": {
      "image/png": "[encoded data removed]",
      "text/plain": [
       "<Figure size 640x480 with 1 Axes>"
      ]
     },
     "metadata": {},
     "output_type": "display_data"
    }
   ],
   "source": [
    "wavelengths = np.arange(200, 800).astype(float)\n",
    "k = 1e9\n",
    "\n",
    "def scatter(w, k):\n",
    "    return k / w**4\n",
    "\n",
    "y = scatter(wavelengths, k)\n",
    "y -= y[-1]\n",
    "plt.plot(wavelengths, y)\n",
    "plt.show()"
   ]
  },
  {
   "cell_type": "code",
   "execution_count": 87,
   "id": "117bf8a8-1a40-4ba6-89c4-8e3f8290db39",
   "metadata": {},
   "outputs": [
    {
     "data": {
      "text/plain": [
       "22.815129898624804"
      ]
     },
     "execution_count": 87,
     "metadata": {},
     "output_type": "execute_result"
    }
   ],
   "source": [
    "np.log(1/ 300 ** -4)"
   ]
  }
 ],
 "metadata": {
  "kernelspec": {
   "display_name": "Python 3 (ipykernel)",
   "language": "python",
   "name": "python3"
  },
  "language_info": {
   "codemirror_mode": {
    "name": "ipython",
    "version": 3
   },
   "file_extension": ".py",
   "mimetype": "text/x-python",
   "name": "python",
   "nbconvert_exporter": "python",
   "pygments_lexer": "ipython3",
   "version": "3.10.12"
  }
 },
 "nbformat": 4,
 "nbformat_minor": 5
}
