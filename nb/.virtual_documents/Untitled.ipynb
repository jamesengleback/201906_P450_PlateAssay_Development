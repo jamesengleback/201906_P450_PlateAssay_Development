import os
import re
import json
import numpy as np
import pandas as pd
from scipy.optimize import curve_fit

import utils

root_dir_walk = os.walk('..')

experiments = {}

for dirpath, dirnames, filenames in root_dir_walk:
    for fname in filenames:
        if re.search('experiment-[0-9]+-summary\.csv', fname) is not None:
            print(fname)






