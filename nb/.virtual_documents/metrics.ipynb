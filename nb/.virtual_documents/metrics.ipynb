


import os
import re
import json
from pprint import pprint
import numpy as np
import pandas as pd
from scipy.optimize import curve_fit
import matplotlib.pyplot as plt

import utils

root_dir_walk = os.walk('..')

experiments = {}

for dirpath, dirnames, filenames in root_dir_walk:
    if (e := re.search('\.\./([0-9]+)', dirpath)) is not None:
        experiment_number = int(e.group(1))
        if 1 <= experiment_number <= 22:
            data = {}

            for fname in filenames:
                fpath = os.path.join(dirpath, fname)
                if re.search('experiment-[0-9]+-summary\.csv', fname) is not None:
                    data['summary_fname'] = fname 
                    data['summary_path'] = fpath
                    #data['summary'] = pd.read_csv(fpath, index_col=0)
                if re.search('config_[0-9]+\.json', fname) is not None:
                    data['config_fname'] = fname 
                    with open(fpath, 'r') as f:
                        data['config'] = json.load(f)
            if data != {}:
                experiments[experiment_number] = data

df = pd.concat([pd.read_csv(experiments[i]['summary_path']) for i in experiments]).reset_index(drop=True)
df.head()


 with open('../bad-traces.txt', 'r') as f:
    bad_traces = f.read().splitlines()

bad_traces


s = bad_traces[0]

def get_trace_info(path):
    search = lambda p, s : match.group(1) if (match := re.match(p, s)) else None
    root = path.split('/')[1]
    experiment_number = int(search('\./([0-9]+)', path))
    plate = search('.*(plate_[0-9]+)', path) or search('.*img/([0-9]+)', path) 
    column = search('.*column-([0-9]+)', path) or search('.*block-([0-9]+)', path)
    
    config = experiments[experiment_number]['config']
    file_name =  config['experiments'][plate]['file']
    file_path = os.path.join('..', root, file_name)

    test_wells = None
    control_wells = None
    
    if (blocks := config.get('blocks')):
        if (block := blocks.get(str(column))):
            test_wells = block.get('test_wells') 
            control_wells = block.get('control_wells') 
    else:
        if (test_rows := config.get('test_rows')):
            test_wells = [f'{i}{j}' for i, j in zip(test_rows, range(1,9))]
        if (control_rows := config.get('control_rows') ):
            control_wells = [f'{i}{j}' for i, j in zip(control_rows, range(1,9))]

    # experiment 18 edge case ffs
    if test_wells is None:
        if (blocks_kinda := config.get('experiments')):
            if (blocks := blocks_kinda[plate]['blocks']):
                if (block := blocks.get(str(column))):
                    test_wells = block.get('test_wells') 
                    control_wells = block.get('control_wells') 
                    # experiments[18]['config']['experiments']['1']['blocks']['1']['test_wells']

    return {
        'experiment_number': experiment_number,
        'root': root,
        'plate': plate,
        'column': column,
        'file_path': file_path,
        'test_wells': test_wells,
        'control_wells': control_wells,
    }

bad_trace_data = pd.DataFrame((map(get_trace_info, bad_traces)))
bad_trace_data





n_plots = len(bad_trace_data)
fig, axs = plt.subplots(n_plots // 3,
                        4,
                        figsize=(16, len(bad_trace_data)),
                       )

get_ax = iter(axs.flatten())

for path in bad_trace_data['file_path'].unique():
    df = utils.bmg.parse_bmg(path).loc[:, 300:]
    chunk = bad_trace_data.loc[bad_trace_data['file_path'] == path, :]
    for idx, row in chunk.iterrows():
        test_wells = df.loc[row['test_wells'], :]
        control_wells = df.loc[row['control_wells'], :]
        utils.plot.plot_plate_data(test_wells,
                                   title= ' '.join([row['root'], row['plate'], row['column']]),
                                   ax=next(get_ax),
                                  )
for ax in get_ax:
    ax.axis('off')
plt.tight_layout()
plt.show()


n_plots = len(bad_trace_data)
fig, axs = plt.subplots(n_plots // 3,
                        4,
                        figsize=(16, len(bad_trace_data)),
                       )

get_ax = iter(axs.flatten())

all_controls = []
all_tests = []

for path in bad_trace_data['file_path'].unique():
    df = utils.bmg.parse_bmg(path)
    chunk = bad_trace_data.loc[bad_trace_data['file_path'] == path, :]
    for idx, row in chunk.iterrows():
        test_wells = df.loc[row['test_wells'], :]
        control_wells = df.loc[row['control_wells'], :]
        utils.plot.plot_plate_data(control_wells,
                                   title= ' '.join([row['root'], row['plate'], row['column']]),
                                   ax=next(get_ax),
                                  )
        all_controls.append(control_wells)
        all_tests.append(test_wells)
        
all_tests = pd.concat(all_tests).dropna()
all_controls = pd.concat(all_controls).dropna()

for ax in get_ax:
    ax.axis('off')
plt.tight_layout()
plt.show()


from matplotlib.cm import inferno
from sklearn.decomposition import  PCA

pca = PCA(n_components=1)
decomp = pca.fit_transform(all_controls)[:, 0]
decomp -= min(decomp)
decomp /= max(decomp)

plt.figure(figsize=(16, 8))
for i in range(len(all_controls)):
    row = all_controls.iloc[i, :]
    row -= row[800]
    plt.plot(row,
             c=inferno(decomp[i]),
            )
plt.ylim(-0.05, 0.4)
plt.show()


from sklearn.cluster import DBSCAN

clusterer = DBSCAN()
clusters = clusterer.fit_predict(all_controls)
clusters


plt.hist(all_tests.mean(axis=1),
        bins=100)
plt.show()


plt.hist(np.gradient(all_tests, axis=1).mean(axis=1), bins=50)
plt.show()


def plot_plate_data_(data,
                    title=None,
                    ligand_name=None,
                    save_path=None,
                    cmap=None,
                    cmap_name=None,
                    ax=None,
                    ylim=None,
                    legend_text=None,
                    ):
    x = data.columns.astype(int)

    if ax is None:
        fig, ax = plt.subplots(figsize=(15,5))

    if cmap is not None:
        # colors = plt.cm.inferno((concs - min(concs))/max(concs))
        _cmap = (cmap - cmap.min()) 
        _cmap /= _cmap.max()
        colors = plt.cm.inferno(_cmap)
        # if concs.argmax() == 0:
        #     colors = plt.cm.inferno(np.linspace(1, 0, len(data)))
        # else:
        #     colors = plt.cm.inferno(np.linspace(0, 1, len(data)))
    else:
        colors = plt.cm.inferno(np.linspace(0, 1, len(data)))

    for i, j in enumerate(data.index):
        y = data.loc[j,:]
        ax.plot(x,
                y, 
                lw=2, 
                color=colors[i],
                label=round(cmap[i], 2) if cmap is not None else y.index,
                )
    if title is not None:
        ax.set_title(title)

    if ylim is None:
        ax.set_ylim((-0.05,1))
    else:
        ax.set_ylim(ylim)


    ax.set_xticks(x[::50])
    ax.set_xlim((280,800))
    ax.set_xlabel('Wavlength nm')
    ax.set_ylabel('Absorbance')

    if cmap is not None:
        if ligand_name is not None:
            if legend_text is not None:
                handles, labels = ax.get_legend_handles_labels()
                handles.append(mpatches.Patch(color='none', label=legend_text))
            else:
                handles = None
            ax.legend([round(i, 2) for i in cmap], 
                      title = f'{ligand_name} concentration μM',
                      loc='right',
                      handles=handles,
                      )
        else:
            ax.legend([round(i, 2) for i in cmap], 
                      title=cmap_name or 'Concentration μM',
                      loc='right',
                      )
    if ax is None and save_path is not None:
        assert 'fig' in locals()
        fig.savefig(save_path)



n_plots = len(bad_trace_data)
fig, axs = plt.subplots(n_plots // 3,
                        4,
                        figsize=(16, len(bad_trace_data)),
                       )

get_ax = iter(axs.flatten())

for path in bad_trace_data['file_path'].unique():
    df = utils.bmg.parse_bmg(path)
    chunk = bad_trace_data.loc[bad_trace_data['file_path'] == path, :]
    for idx, row in chunk.iterrows():
        test_wells = df.loc[row['test_wells'], :]
        gradients = np.gradient(test_wells, axis=1).sum(axis=1)
        control_wells = df.loc[row['control_wells'], :]
        plot_plate_data_(test_wells,
                         title= ' '.join([row['root'], row['plate'], row['column']]),
                         ax=next(get_ax),
                         cmap=gradients,
                         cmap_name='Mean Gradient',
                         )
for ax in get_ax:
    ax.axis('off')
plt.tight_layout()
plt.show()


n_plots = len(bad_trace_data)
fig, axs = plt.subplots(n_plots // 3,
                        4,
                        figsize=(16, len(bad_trace_data)),
                       )

get_ax = iter(axs.flatten())

for path in bad_trace_data['file_path'].unique():
    df = utils.bmg.parse_bmg(path)
    chunk = bad_trace_data.loc[bad_trace_data['file_path'] == path, :]
    for idx, row in chunk.iterrows():
        test_wells = df.loc[row['test_wells'], :]
        gradients = np.gradient(test_wells, axis=1).sum(axis=1)
        control_wells = df.loc[row['control_wells'], :]
        plot_plate_data_(control_wells,
                         title= ' '.join([row['root'], row['plate'], row['column']]),
                         ax=next(get_ax),
                         cmap=gradients,
                         cmap_name='Mean Gradient',
                         )
for ax in get_ax:
    ax.axis('off')
plt.tight_layout()
plt.show()


all_controls.sum(axis=1)


plt.figure(figsize=(16,8))

all_controls = all_controls.loc[:, 300:]
all_controls_minsum = min(all_controls.sum(axis=1))
all_controls_maxsum = max(all_controls.sum(axis=1))

def color_area(row):
    return inferno((row.sum() - all_controls_minsum) / all_controls_maxsum)
    

for i in range(len(all_controls)):
    row = all_controls.iloc[i, :]
    plt.plot(row, c=color_area(row))
plt.show()


import seaborn as sns
sns.kdeplot(all_controls.sum(axis=1))
plt.show()


baseline_traces = all_controls.loc[all_controls.sum(axis=1) < 10, :]
for i in range(len(baseline_traces)):
    plt.plot(baseline_traces.iloc[i, :])
plt.plot(baseline_traces.mean(axis=0),
        lw=4,
        label='mean',
         color='black',
        )

plt.show()








n_plots = len(bad_trace_data)
fig, axs = plt.subplots(n_plots // 3,
                        4,
                        figsize=(16, len(bad_trace_data)),
                       )

get_ax = iter(axs.flatten())

x = baseline_traces.mean(axis=0)

for path in bad_trace_data['file_path'].unique():
    df = utils.bmg.parse_bmg(path)
    chunk = bad_trace_data.loc[bad_trace_data['file_path'] == path, :]
    df = df.loc[:, 300:]
    for idx, row in chunk.iterrows():
        test_wells = df.loc[row['test_wells'], :]
        test_wells = test_wells - x
        control_wells = df.loc[row['control_wells'], :]
        control_wells = control_wells - x
        gradients = np.gradient(test_wells, axis=1).sum(axis=1)
        plot_plate_data_(control_wells,
                         title= ' '.join([row['root'], row['plate'], row['column']]),
                         ax=next(get_ax),
                         cmap=gradients,
                         cmap_name='Mean Gradient',
                         ylim=(-0.03, 0.2),
                         )
for ax in get_ax:
    ax.axis('off')
plt.tight_layout()
plt.show()


from scipy import ndimage

x = baseline_traces.mean(axis=0)
xs5 = pd.Series(ndimage.gaussian_filter1d(x, sigma=5),
                index=x.index)

plt.plot(ndimage.gaussian_filter1d(x, sigma=5) + 0.3)

plt.plot(x.values)
plt.plot(ndimage.gaussian_filter1d(x, sigma=1) + 0.1)
plt.plot(ndimage.gaussian_filter1d(x, sigma=2) + 0.2)
plt.plot(ndimage.gaussian_filter1d(x, sigma=5) + 0.3)
plt.show()





from tqdm.notebook import tqdm

traces = [] 
for path in bad_trace_data['file_path'].unique():
    df = utils.bmg.parse_bmg(path)
    traces.append(df)
    
df = pd.concat(traces).loc[:, 300:]
df = df.subtract(df.loc[:, 800], axis=0)

gradients = np.gradient(df, axis=1).mean(axis=1)
gradients_scaled = gradients - min(gradients)
gradients_scaled /= max(gradients_scaled)

colors = inferno(gradients_scaled)

plt.figure(figsize=(16,8))

for i in tqdm(range(len(df))):
    row = df.iloc[i, :]
    plt.plot(row, 
             c=colors[i],
             alpha=0.5,
            )
plt.title('Average Gradients')
plt.show()


area = np.trapz(df, axis=1)
area_scaled = area - min(area)
area_scaled /= max(area_scaled)

colors = inferno(area_scaled)

plt.figure(figsize=(16,8))

for i in tqdm(range(len(df))):
    row = df.iloc[i, :]
    plt.plot(row, 
             c=colors[i],
             alpha=0.5,
            )
plt.title('Area Under Curve')
plt.show()



