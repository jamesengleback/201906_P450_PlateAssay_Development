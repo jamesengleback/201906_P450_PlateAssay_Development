import os
import re
import json
from pprint import pprint
import numpy as np
import pandas as pd
from scipy.optimize import curve_fit
import matplotlib.pyplot as plt

import utils

root_dir_walk = os.walk('..')

experiments = {}

for dirpath, dirnames, filenames in root_dir_walk:
    if (e := re.search('\.\./([0-9]+)', dirpath)) is not None:
        experiment_number = int(e.group(1))
        if 1 <= experiment_number <= 22:
            data = {}

            for fname in filenames:
                fpath = os.path.join(dirpath, fname)
                if re.search('experiment-[0-9]+-summary\.csv', fname) is not None:
                    data['summary_fname'] = fname 
                    data['summary_path'] = fpath
                    #data['summary'] = pd.read_csv(fpath, index_col=0)
                if re.search('config_[0-9]+\.json', fname) is not None:
                    data['config_fname'] = fname 
                    with open(fpath, 'r') as f:
                        data['config'] = json.load(f)
            if data != {}:
                experiments[experiment_number] = data

df = pd.concat([pd.read_csv(experiments[i]['summary_path']) for i in experiments]).reset_index(drop=True)
df.head()



