





import os
root_path = '../1_PlateSelection/'
file_paths = sorted([os.path.join(root_path, i) for i in os.listdir(root_path)])
file_paths


from mimetypes import guess_type

csv_paths = [i for i in file_paths if guess_type(i)[0] == 'text/csv']
csv_paths


spec_data_file_paths = list(filter(lambda x : 'BM3' in x, csv_paths))
spec_data_file_paths


import pandas as pd
df = pd.read_csv(spec_data_file_paths[0])
df.head()





from utils.photospectrometer import parse_spec

print(spec_data_file_paths[1])
parse_spec(spec_data_file_paths[1]).head()


print(spec_data_file_paths[0])
parse_spec(spec_data_file_paths[0]).head()





plate_paths = [i for i in csv_paths if 'BM3' not in i]
plate_paths


def parse_bmg(path: str) -> pd.DataFrame:
    # find header
    with open(path, 'r') as f:
        for row_num, row in enumerate(f):
            if  len(row.split(',')) > 500:
                break
    df = pd.read_csv(path, skiprows=row_num)
    df.index = [f'{i}{j}'.replace('.0','') for i, j in zip(df['Well Row'], df['Well Col']) ]
    df = df.dropna(axis=1)
    df = df.iloc[1:, 3:]
    df.columns = df.columns.str.extract('([0-9]+)')[0]
    return df

df = parse_bmg(plate_paths[0])

dfJKJ
