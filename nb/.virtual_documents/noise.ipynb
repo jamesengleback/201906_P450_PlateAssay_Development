import os
import re
import json
from tqdm.notebook import tqdm

import numpy as np
import pandas as pd
from scipy import ndimage
from scipy import optimize 
from sklearn.preprocessing import MinMaxScaler, PowerTransformer

import matplotlib.pyplot as plt
import matplotlib.patches as mpatches

import utils

def scatter(w, k):
    return k * (1 / w**4)

def r_squared(y, y_hat):
    residuals = y - y_hat
    ss_res = np.sum(residuals**2)
    ss_tot = np.sum((y-np.mean(y))**2)
    r_squared = 1 - (ss_res / ss_tot)
    return r_squared


root_dir_walk = os.walk('..')

all_traces_summaries = []


for dirpath, dirnames, filenames in root_dir_walk:
    if (e := re.search('\.\./([0-9]+)', dirpath)) is not None:
        experiment_number = int(e.group(1))
        data = {}
        if 1 <= experiment_number <= 22:
            #if experiment_number not in experiment_configs.keys():
            for filename in filenames:
                fpath = os.path.join(dirpath, filename)
                if re.search('experiment-[0-9]+-per-well-summary\.csv', filename) is not None:
                    all_traces_summaries.append(os.path.join(dirpath, filename))

df  = pd.concat([pd.read_csv(i) for i in all_traces_summaries]).reset_index(drop=True)
df


df['protein_vol'].dropna()


df[[i for i in df.columns if not i.isnumeric()]]


print(f"{len(df['protein_volume'].dropna()) / len(df):2%}")
print(f"{len(df['well_volume'].dropna()) / len(df):2%}")
