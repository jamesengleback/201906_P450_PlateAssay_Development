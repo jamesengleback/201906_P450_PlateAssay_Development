import os
import re
import numpy as np
import pandas as pd
import matplotlib.pyplot as plt
from tqdm.notebook import tqdm
import utils

root_dir_walk = os.walk('..')

plate_files = []

for dirpath, dirnames, filenames in root_dir_walk:
    if (e := re.search('\.\./([0-9]+)', dirpath)) is not None:
        experiment_number = int(e.group(1))
        if 1 <= experiment_number <= 22:
            for filename in filenames:
                if filename.split('.')[-1] == 'CSV' and 'pathlength' not in filename.lower():
                    plate_files.append(os.path.join(dirpath, filename))
                    
df = pd.concat([utils.bmg.parse_bmg(i) for i in plate_files])
df.head()


plt.figure(figsize=(16,8))
for i in tqdm(range(len(df))):
    row = df.iloc[i, :]
    plt.plot(row)
plt.xlim(300, 800)
plt.show()


df_corr = df.subtract(df[800], axis=0)

plt.figure(figsize=(16,8))
for i in tqdm(range(len(df_corr))):
    row = df_corr.iloc[i, :]
    plt.plot(row,
            lw=0.5,
            alpha=0.5,
            )
plt.xlim(300, 800)
plt.show()


df_clear = df_corr.loc[df_corr[280] < 1, :]
df_normal = df_corr.loc[df_corr[280] > 1, :]

plt.figure(figsize=(16,8))
for i in tqdm(range(len(df_clear))):
    row = df_clear.iloc[i, :]
    plt.plot(row,
            lw=0.5,
            alpha=0.5,
            )
plt.ylim(-0.05, 0.5)
plt.xlim(300, 800)
plt.show()



plt.figure(figsize=(16,8))
for i in tqdm(range(len(df_normal))):
    row = df_normal.iloc[i, :]
    plt.plot(row,
            lw=0.5,
            alpha=0.5,
            )
plt.xlim(300, 800)
plt.show()


df_normal = df_normal.loc[:, 300:]

auc = np.trapz(df_normal, axis=1)
_auc_norm = auc - min(auc)
auc_norm = _auc_norm / max(_auc_norm)

colors = plt.cm.inferno(auc_norm)

fig = plt.figure(figsize=(16,8))
for i in tqdm(range(len(df_normal))):
    row = df_normal.iloc[i, :]
    plt.plot(row,
             lw=0.5,
             c=colors[i],
            )
plt.xlim(300, 800)
plt.show()


auc


plt.hist(auc, bins=100)
plt.show()





from scipy import ndimage

baseline = df_normal.iloc[auc.argmin(), :]
sigma = 5
baseline_smooth = pd.Series(ndimage.gaussian_filter1d(baseline, sigma=sigma), index=baseline.index)
baseline_smooth -= baseline_smooth[800]

plt.figure(figsize=(16, 4))
plt.plot(df_normal.min(), label='Min')
plt.plot(baseline, label='Lowest AUC')
plt.plot(baseline_smooth, label=f'Lowest AUC Smoothed $\sigma = {sigma}$')
plt.legend()
plt.xlim(300, 800)
plt.show()


df_normal_smooth = pd.DataFrame(ndimage.gaussian_filter1d(df_normal, 
                                                          sigma=5,
                                                          axis=1,), 
                                columns=df_normal.columns, 
                                index=df_normal.index,
                               )

df_normal_smooth =  df_normal_smooth.subtract(df_normal_smooth[800], axis=0)

auc_smooth = np.trapz(df_normal_smooth, axis=1)
_auc_norm_smooth = auc_smooth - min(auc_smooth)
auc_norm_smooth = _auc_norm_smooth / max(_auc_norm_smooth)

baseline = df_normal_smooth.iloc[auc_norm_smooth.argmin(), :]

df_normal_smooth = df_normal_smooth - baseline_smooth

colors_smooth = plt.cm.inferno(auc_norm_smooth)


fig = plt.figure(figsize=(16,8))
for i in tqdm(range(len(df_normal_smooth))):
    row = df_normal_smooth.iloc[i, :]
    plt.plot(row,
             lw=0.5,
             c=colors_smooth[i],
            )
plt.xlim(300, 800)
plt.show()


plt.hist(auc_norm_smooth, bins=100)
plt.show()





from scipy import signal 




fig = plt.figure(figsize=(16,8))
for i in tqdm(range(len(df_normal_smooth))):
    row = df_normal_smooth.iloc[i, :]
    peak_idx, props = signal.find_peaks(row, distance=5)
    peak_wavelengths = [row.index[i] for i in peak_idx]
    p450_peaks = [i for i in peak_wavelengths if i < 425 and i > 415]
    if len(p450_peaks) > 0:
        plt.plot(row,
                 lw=0.5,
                 c=colors_smooth[i],
                )
        plt.vlines(peak_wavelengths, 0, 1, lw=1)
plt.xlim(300, 800)
plt.show()


fig = plt.figure(figsize=(16,8))
for i in tqdm(range(len(df_normal_smooth))):
    row = df_normal_smooth.iloc[i, :]
    peak_idx, props = signal.find_peaks(row, distance=10)
    peak_wavelengths = [row.index[i] for i in peak_idx]
    p450_peaks = [i for i in peak_wavelengths if i < 450 and i > 380]
    if len(p450_peaks) == 0:
        plt.plot(row,
                 lw=0.5,
                 c=colors_smooth[i],
                )
plt.xlim(300, 800)
plt.show()



peaks = []

for i in tqdm(range(len(df_normal_smooth))):
    row = df_normal_smooth.iloc[i, :]
    peak_idx, props = signal.find_peaks(row, distance=5)
    peak_wavelengths = [row.index[i] for i in peak_idx]
    peaks += peak_wavelengths

plt.figure(figsize=(16,4))
plt.hist(peaks, bins=100)
ticks = df_normal_smooth.columns[::20]
plt.xticks(ticks, ticks)
plt.xlim(300, 800)
plt.show()


import seaborn as sns

ticks = df_normal_smooth.columns[::20]
plt.figure(figsize=(16,4))
sns.kdeplot(peaks)
plt.xticks(ticks, ticks)
plt.xlim(300, 800)
plt.show()


fig = plt.figure(figsize=(16,8))
for i in tqdm(range(len(df_normal))):
    if auc[i] < 4:
        row = df_normal.iloc[i, :]
        plt.plot(row,
                 lw=0.5,
                 c=colors[i],
                )
plt.xlim(300, 800)
plt.show()


fig = plt.figure(figsize=(16,8))
for i in tqdm(range(len(df_normal))):
    if auc[i] > 70:
        row = df_normal.iloc[i, :]
        plt.plot(row,
                 lw=0.5,
                 c=colors[i],
                )
plt.xlim(300, 800)
plt.show()


row_smooth = pd.Series(ndimage.gaussian_filter1d(row, sigma=10), index=row.index)
peak_idx, props = signal.find_peaks(row_smooth, distance=5)
peak_wavelengths = [row.index[i] for i in peak_idx]

print(peak_wavelengths)
plt.plot(row_smooth)
plt.vlines(peak_wavelengths, 0, 1, lw=1)
plt.xlim(300, 800)
plt.show()


_blanks = []
for i in tqdm(range(len(df_normal_smooth))):
    row = df_normal_smooth.iloc[i, :]
    peak_idx, props = signal.find_peaks(row, distance=10)
    peak_wavelengths = [row.index[i] for i in peak_idx]
    p450_peaks = [i for i in peak_wavelengths if i < 450 and i > 380]
    if len(p450_peaks) == 0:
        _blanks.append(row)
blanks = pd.concat(_blanks, axis=1).T
blanks


from scipy import optimize 

def scatter(w, k):
    return k * (1 / w**4)

def r_squared(y, y_hat):
    residuals = y - y_hat
    ss_res = np.sum(residuals**2)
    ss_tot = np.sum((y-np.mean(y))**2)
    r_squared = 1 - (ss_res / ss_tot)
    return r_squared



fig = plt.figure(figsize=(16,8))
for i in tqdm(range(len(blanks))):
    row = blanks.iloc[i, :]
    k, cov = optimize.curve_fit(scatter,
                                xdata=row.index,
                                ydata=row
                               )
    y_pred = pd.Series(scatter(row.index, k), index=row.index)
    rsq = r_squared(row, y_pred)
    plt.plot(row,
            c=plt.cm.inferno(rsq),
            )
    plt.plot(y_pred, linestyle='--', lw=0.5, color='gray')
    
plt.xlim(300, 800)
plt.show()


all_rsq = []
all_k = []

fig = plt.figure(figsize=(16,8))
for i in tqdm(range(len(df_normal_smooth))):
    row = df_normal_smooth.iloc[i, :]
    k, cov = optimize.curve_fit(scatter,
                                xdata=row.index,
                                ydata=row
                               )
    y_pred = pd.Series(scatter(row.index, k), index=row.index)
    rsq = r_squared(row, y_pred)
    all_rsq.append(rsq)
    all_k.append(k)
    if rsq > 0.8:
        plt.plot(row,
                c=plt.cm.inferno(rsq),
                )
        plt.plot(y_pred, linestyle='--', lw=0.5, color='gray')
    
plt.show()

plt.hist(all_rsq)
plt.show()


plt.hist(all_rsq, bins=100)
plt.show()


from sklearn.preprocessing import MinMaxScaler, PowerTransformer

ks = np.concatenate(all_k).reshape(-1, 1)
mm_scaler = MinMaxScaler()
mm_scaler.fit(ks)
power_scaler = PowerTransformer()
power_scaler.fit(ks)

fig, axs = plt.subplots(1, 3, figsize=(12,4))
axs[0].hist(ks, bins=100)
axs[0].set_title('Raw $k$')
axs[1].hist(mm_scaler.transform(ks), bins=100)
axs[1].set_title('MinMax Scaled $k$')
axs[2].hist(power_scaler.transform(ks), bins=100)
axs[2].set_title('Power Transformed $k$')
plt.show()


def color_k(k):
    k_norm = power_scaler.transform(np.array(k).reshape(1,1)).flatten()
    return plt.cm.inferno(k_norm)

for k in np.linspace(min(ks), max(ks), 10):
    y_pred = pd.Series(scatter(row.index, k), index=row.index)
    plt.plot(y_pred, label=k, c=color_k(k))
plt.legend()
plt.show()


rsqs = np.array(all_rsq)

plt.scatter(x=ks,
            y=rsqs,
            s=1,
            alpha=0.1,
           )
plt.ylabel('$R^2$')
plt.xlabel('$k$')
#plt.xscale('log')
plt.show()


from textwrap import dedent

metrics_df = pd.DataFrame([ks.flatten(), rsqs.flatten()], index=['K', 'Rsq']).T
metrics_df_kslice = metrics_df.loc[metrics_df['Rsq'] > 0, :]

df_normal_smooth_kslice = df_normal_smooth.iloc[metrics_df_kslice.index, :]

fig = plt.figure(figsize=(16,8))
for (i, row), k in tqdm(zip(df_normal_smooth_kslice.iterrows(), 
                            metrics_df_kslice['K']
                            ),
                         total=len(df_normal_smooth_kslice)
                        ):
    plt.plot(row,
             c=color_k(k),
             lw=1,
             alpha=0.8
            )
    
plt.title(dedent(
    f"""{metrics_df_kslice['K'].min():.1E} < $k$ < {metrics_df_kslice['K'].max():.1E}
        {metrics_df_kslice['Rsq'].min():,.2f} < $R^2$ < {metrics_df_kslice['Rsq'].max():,.2f}"""
                )
         )
plt.show()


metrics_df = pd.DataFrame([ks.flatten(), rsqs.flatten()], index=['K', 'Rsq']).T
metrics_df_kslice = metrics_df.loc[metrics_df['Rsq'] > 0.8, :]

df_normal_smooth_kslice = df_normal_smooth.iloc[metrics_df_kslice.index, :]

fig = plt.figure(figsize=(16,8))
for (i, row), k in tqdm(zip(df_normal_smooth_kslice.iterrows(), 
                            metrics_df_kslice['K']
                            ),
                         total=len(df_normal_smooth_kslice)
                        ):
    plt.plot(row,
             c=color_k(k),
             lw=1,
             alpha=0.8
            )
    
plt.title(dedent(
    f"""{metrics_df_kslice['K'].min():.1E} < $k$ < {metrics_df_kslice['K'].max():.1E}
        {metrics_df_kslice['Rsq'].min():,.2f} < $R^2$ < {metrics_df_kslice['Rsq'].max():,.2f}"""
                )
         )
plt.show()


metrics_df = pd.DataFrame([ks.flatten(), rsqs.flatten()], index=['K', 'Rsq']).T
metrics_df_kslice = metrics_df.loc[metrics_df['Rsq'] < 0.5, :]
metrics_df_kslice = metrics_df_kslice.loc[metrics_df_kslice['Rsq'] > 0, :]

df_normal_smooth_kslice = df_normal_smooth.iloc[metrics_df_kslice.index, :]


fig = plt.figure(figsize=(16,8))
for (i, row), k in tqdm(zip(df_normal_smooth_kslice.iterrows(), 
                            metrics_df_kslice['K']
                            ),
                         total=len(df_normal_smooth_kslice)
                        ):
    plt.plot(row,
             c=color_k(k),
             lw=1,
             alpha=0.8
            )
    
plt.title(dedent(
    f"""{metrics_df_kslice['K'].min():,.1E} < $k$ < {metrics_df_kslice['K'].max():,.1E}
        {metrics_df_kslice['Rsq'].min():,.2f} < $R^2$ < {metrics_df_kslice['Rsq'].max():,.2f}"""
                )
         )
plt.xlim(300, 800)
plt.show()


metrics_df = pd.DataFrame([ks.flatten(), rsqs.flatten()], index=['K', 'Rsq']).T
metrics_df_kslice = metrics_df_kslice.loc[metrics_df_kslice['Rsq'] > 0, :]

df_normal_smooth_kslice = df_normal_smooth.iloc[metrics_df_kslice.index, :]


fig = plt.figure(figsize=(16,8))
for (i, row), k in tqdm(zip(df_normal_smooth_kslice.iterrows(), 
                            metrics_df_kslice['K']
                            ),
                         total=len(df_normal_smooth_kslice)
                        ):
    plt.plot(row,
             c=color_k(k),
             lw=1,
             alpha=0.8
            )
    
plt.title(dedent(
    f"""{metrics_df_kslice['K'].min():,.2f} < $k$ < {metrics_df_kslice['K'].max():,.2f}
        {metrics_df_kslice['Rsq'].min():,.2f} < $R^2$ < {metrics_df_kslice['Rsq'].max():,.2f}"""
                )
         )
plt.xlim(300, 800)
plt.show()


metrics_df.hist()






