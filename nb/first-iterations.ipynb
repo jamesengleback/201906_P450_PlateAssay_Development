{
 "cells": [
  {
   "cell_type": "markdown",
   "id": "c0b568a8-eebe-41e8-86de-78c3eae21eb0",
   "metadata": {},
   "source": [
    "# First Iterations\n",
    "\n",
    "## Aim\n",
    "\n",
    "- Get some nice figs and numbers from early iterations "
   ]
  },
  {
   "cell_type": "markdown",
   "id": "079b7e55-d0b2-4aec-b584-0ebe8ccd8d98",
   "metadata": {},
   "source": [
    "## 1 - Plate Selection\n",
    "\n",
    "- Scattering: looks like I tried to measure that"
   ]
  },
  {
   "cell_type": "code",
   "execution_count": 1,
   "id": "341790c5-256b-44bc-86e4-f8e533194f04",
   "metadata": {},
   "outputs": [
    {
     "data": {
      "text/plain": [
       "['../1_PlateSelection/.ipynb_checkpoints',\n",
       " '../1_PlateSelection/.~lock.20190603_BM3PostdilutionConcCheck.csv#',\n",
       " '../1_PlateSelection/20190603_BM3PostdilutionConcCheck.csv',\n",
       " '../1_PlateSelection/20190603_BM3StckConcCheck.csv',\n",
       " '../1_PlateSelection/20190603_PlateSelectionAnalysis.py',\n",
       " '../1_PlateSelection/20190603_PlateSelectionAnalysis_JustPlotEverything.py',\n",
       " '../1_PlateSelection/20190603_PlateSelectionAnalysis_subplotBrach.py',\n",
       " '../1_PlateSelection/20190603_PlateselectionTests_ALL.png',\n",
       " '../1_PlateSelection/20190604_PlateselectionNotes-1_1.jpg',\n",
       " '../1_PlateSelection/20190604_PlateselectionNotes.pdf',\n",
       " '../1_PlateSelection/20190604_PlateselectionNotes.txt',\n",
       " '../1_PlateSelection/20190604_PlateselectionNotes_2.pdf',\n",
       " '../1_PlateSelection/36640.CSV',\n",
       " '../1_PlateSelection/36640_2.CSV',\n",
       " '../1_PlateSelection/3770bc.CSV',\n",
       " '../1_PlateSelection/3770bc_2.CSV',\n",
       " '../1_PlateSelection/464718.CSV',\n",
       " '../1_PlateSelection/464718_2.CSV',\n",
       " '../1_PlateSelection/761860.CSV',\n",
       " '../1_PlateSelection/761860_2.CSV',\n",
       " '../1_PlateSelection/781620.CSV',\n",
       " '../1_PlateSelection/781620_2.CSV',\n",
       " '../1_PlateSelection/DELTA.CSV',\n",
       " '../1_PlateSelection/DELTA_2.CSV']"
      ]
     },
     "execution_count": 1,
     "metadata": {},
     "output_type": "execute_result"
    }
   ],
   "source": [
    "import os\n",
    "root_path = '../1_PlateSelection/'\n",
    "file_paths = sorted([os.path.join(root_path, i) for i in os.listdir(root_path)])\n",
    "file_paths"
   ]
  },
  {
   "cell_type": "code",
   "execution_count": 2,
   "id": "a19eda9f-135c-4cd9-b020-8108b9066285",
   "metadata": {},
   "outputs": [
    {
     "data": {
      "text/plain": [
       "['../1_PlateSelection/20190603_BM3PostdilutionConcCheck.csv',\n",
       " '../1_PlateSelection/20190603_BM3StckConcCheck.csv',\n",
       " '../1_PlateSelection/36640.CSV',\n",
       " '../1_PlateSelection/36640_2.CSV',\n",
       " '../1_PlateSelection/3770bc.CSV',\n",
       " '../1_PlateSelection/3770bc_2.CSV',\n",
       " '../1_PlateSelection/464718.CSV',\n",
       " '../1_PlateSelection/464718_2.CSV',\n",
       " '../1_PlateSelection/761860.CSV',\n",
       " '../1_PlateSelection/761860_2.CSV',\n",
       " '../1_PlateSelection/781620.CSV',\n",
       " '../1_PlateSelection/781620_2.CSV',\n",
       " '../1_PlateSelection/DELTA.CSV',\n",
       " '../1_PlateSelection/DELTA_2.CSV']"
      ]
     },
     "execution_count": 2,
     "metadata": {},
     "output_type": "execute_result"
    }
   ],
   "source": [
    "from mimetypes import guess_type\n",
    "\n",
    "csv_paths = [i for i in file_paths if guess_type(i)[0] == 'text/csv']\n",
    "csv_paths"
   ]
  },
  {
   "cell_type": "code",
   "execution_count": 3,
   "id": "0d11d283-06d2-46dc-ba14-d69ebc4e9d87",
   "metadata": {},
   "outputs": [
    {
     "data": {
      "text/plain": [
       "['../1_PlateSelection/20190603_BM3PostdilutionConcCheck.csv',\n",
       " '../1_PlateSelection/20190603_BM3StckConcCheck.csv']"
      ]
     },
     "execution_count": 3,
     "metadata": {},
     "output_type": "execute_result"
    }
   ],
   "source": [
    "spec_data_file_paths = list(filter(lambda x : 'BM3' in x, csv_paths))\n",
    "spec_data_file_paths"
   ]
  },
  {
   "cell_type": "code",
   "execution_count": 4,
   "id": "b81893f1-c191-42f3-a1fc-cb4340419a3c",
   "metadata": {},
   "outputs": [
    {
     "data": {
      "text/html": [
       "<div>\n",
       "<style scoped>\n",
       "    .dataframe tbody tr th:only-of-type {\n",
       "        vertical-align: middle;\n",
       "    }\n",
       "\n",
       "    .dataframe tbody tr th {\n",
       "        vertical-align: top;\n",
       "    }\n",
       "\n",
       "    .dataframe thead th {\n",
       "        text-align: right;\n",
       "    }\n",
       "</style>\n",
       "<table border=\"1\" class=\"dataframe\">\n",
       "  <thead>\n",
       "    <tr style=\"text-align: right;\">\n",
       "      <th></th>\n",
       "      <th>baseline</th>\n",
       "      <th>Unnamed: 1</th>\n",
       "      <th>bm3wthemeDil2uM</th>\n",
       "      <th>Unnamed: 3</th>\n",
       "      <th>bm3wthemeDil5uM1</th>\n",
       "      <th>Unnamed: 5</th>\n",
       "      <th>bm3wthemeDil10uM</th>\n",
       "      <th>Unnamed: 7</th>\n",
       "      <th>Unnamed: 8</th>\n",
       "    </tr>\n",
       "  </thead>\n",
       "  <tbody>\n",
       "    <tr>\n",
       "      <th>0</th>\n",
       "      <td>Wavelength (nm)</td>\n",
       "      <td>Abs</td>\n",
       "      <td>Wavelength (nm)</td>\n",
       "      <td>Abs</td>\n",
       "      <td>Wavelength (nm)</td>\n",
       "      <td>Abs</td>\n",
       "      <td>Wavelength (nm)</td>\n",
       "      <td>Abs</td>\n",
       "      <td>NaN</td>\n",
       "    </tr>\n",
       "    <tr>\n",
       "      <th>1</th>\n",
       "      <td>799.9971313</td>\n",
       "      <td>-0.0005947110476</td>\n",
       "      <td>799.9971313</td>\n",
       "      <td>0.003252059221</td>\n",
       "      <td>799.9971313</td>\n",
       "      <td>0.003194790101</td>\n",
       "      <td>799.9971313</td>\n",
       "      <td>0.004799798597</td>\n",
       "      <td>NaN</td>\n",
       "    </tr>\n",
       "    <tr>\n",
       "      <th>2</th>\n",
       "      <td>798.9984131</td>\n",
       "      <td>-8.665757923E-005</td>\n",
       "      <td>798.9984131</td>\n",
       "      <td>0.004196888767</td>\n",
       "      <td>798.9984131</td>\n",
       "      <td>0.004164531827</td>\n",
       "      <td>798.9984131</td>\n",
       "      <td>0.006426838692</td>\n",
       "      <td>NaN</td>\n",
       "    </tr>\n",
       "    <tr>\n",
       "      <th>3</th>\n",
       "      <td>797.9993896</td>\n",
       "      <td>0.001331412699</td>\n",
       "      <td>797.9993896</td>\n",
       "      <td>0.004117882811</td>\n",
       "      <td>797.9993896</td>\n",
       "      <td>0.002651162446</td>\n",
       "      <td>797.9993896</td>\n",
       "      <td>0.005109281279</td>\n",
       "      <td>NaN</td>\n",
       "    </tr>\n",
       "    <tr>\n",
       "      <th>4</th>\n",
       "      <td>796.9998779</td>\n",
       "      <td>-0.0004413385177</td>\n",
       "      <td>796.9998779</td>\n",
       "      <td>0.001250459929</td>\n",
       "      <td>796.9998779</td>\n",
       "      <td>0.003601000411</td>\n",
       "      <td>796.9998779</td>\n",
       "      <td>0.004341138527</td>\n",
       "      <td>NaN</td>\n",
       "    </tr>\n",
       "  </tbody>\n",
       "</table>\n",
       "</div>"
      ],
      "text/plain": [
       "          baseline         Unnamed: 1  bm3wthemeDil2uM      Unnamed: 3  \\\n",
       "0  Wavelength (nm)                Abs  Wavelength (nm)             Abs   \n",
       "1      799.9971313   -0.0005947110476      799.9971313  0.003252059221   \n",
       "2      798.9984131  -8.665757923E-005      798.9984131  0.004196888767   \n",
       "3      797.9993896     0.001331412699      797.9993896  0.004117882811   \n",
       "4      796.9998779   -0.0004413385177      796.9998779  0.001250459929   \n",
       "\n",
       "  bm3wthemeDil5uM1      Unnamed: 5 bm3wthemeDil10uM      Unnamed: 7  \\\n",
       "0  Wavelength (nm)             Abs  Wavelength (nm)             Abs   \n",
       "1      799.9971313  0.003194790101      799.9971313  0.004799798597   \n",
       "2      798.9984131  0.004164531827      798.9984131  0.006426838692   \n",
       "3      797.9993896  0.002651162446      797.9993896  0.005109281279   \n",
       "4      796.9998779  0.003601000411      796.9998779  0.004341138527   \n",
       "\n",
       "   Unnamed: 8  \n",
       "0         NaN  \n",
       "1         NaN  \n",
       "2         NaN  \n",
       "3         NaN  \n",
       "4         NaN  "
      ]
     },
     "execution_count": 4,
     "metadata": {},
     "output_type": "execute_result"
    }
   ],
   "source": [
    "import pandas as pd\n",
    "df = pd.read_csv(spec_data_file_paths[0])\n",
    "df.head()"
   ]
  },
  {
   "cell_type": "markdown",
   "id": "5eeba538-74dc-4043-88e6-b235657fedae",
   "metadata": {},
   "source": [
    "### Plot traces and concentrations"
   ]
  },
  {
   "cell_type": "code",
   "execution_count": 10,
   "id": "2030d2ba-2087-4273-b119-9cd1ab83d2ab",
   "metadata": {},
   "outputs": [
    {
     "name": "stdout",
     "output_type": "stream",
     "text": [
      "../1_PlateSelection/20190603_BM3StckConcCheck.csv\n"
     ]
    },
    {
     "data": {
      "text/html": [
       "<div>\n",
       "<style scoped>\n",
       "    .dataframe tbody tr th:only-of-type {\n",
       "        vertical-align: middle;\n",
       "    }\n",
       "\n",
       "    .dataframe tbody tr th {\n",
       "        vertical-align: top;\n",
       "    }\n",
       "\n",
       "    .dataframe thead th {\n",
       "        text-align: right;\n",
       "    }\n",
       "</style>\n",
       "<table border=\"1\" class=\"dataframe\">\n",
       "  <thead>\n",
       "    <tr style=\"text-align: right;\">\n",
       "      <th></th>\n",
       "      <th>baseline</th>\n",
       "      <th>bm3WTHemeDomain_5in1000</th>\n",
       "    </tr>\n",
       "  </thead>\n",
       "  <tbody>\n",
       "    <tr>\n",
       "      <th>1</th>\n",
       "      <td>0.0001963376708</td>\n",
       "      <td>0.002098563826</td>\n",
       "    </tr>\n",
       "    <tr>\n",
       "      <th>2</th>\n",
       "      <td>-0.001368245576</td>\n",
       "      <td>0.0009969506646</td>\n",
       "    </tr>\n",
       "    <tr>\n",
       "      <th>3</th>\n",
       "      <td>-0.00124952849</td>\n",
       "      <td>0.002097887686</td>\n",
       "    </tr>\n",
       "    <tr>\n",
       "      <th>4</th>\n",
       "      <td>-0.0009447414195</td>\n",
       "      <td>-0.0009768723976</td>\n",
       "    </tr>\n",
       "    <tr>\n",
       "      <th>5</th>\n",
       "      <td>-0.0002452261979</td>\n",
       "      <td>0.003038408002</td>\n",
       "    </tr>\n",
       "  </tbody>\n",
       "</table>\n",
       "</div>"
      ],
      "text/plain": [
       "           baseline bm3WTHemeDomain_5in1000\n",
       "1   0.0001963376708          0.002098563826\n",
       "2   -0.001368245576         0.0009969506646\n",
       "3    -0.00124952849          0.002097887686\n",
       "4  -0.0009447414195        -0.0009768723976\n",
       "5  -0.0002452261979          0.003038408002"
      ]
     },
     "execution_count": 10,
     "metadata": {},
     "output_type": "execute_result"
    }
   ],
   "source": [
    "from utils.photospectrometer import parse_spec\n",
    "\n",
    "print(spec_data_file_paths[1])\n",
    "parse_spec(spec_data_file_paths[1]).head()"
   ]
  },
  {
   "cell_type": "code",
   "execution_count": 11,
   "id": "24866872-4e8f-4f84-8228-7bbf5016ec54",
   "metadata": {
    "collapsed": true,
    "jupyter": {
     "outputs_hidden": true
    },
    "scrolled": true
   },
   "outputs": [
    {
     "name": "stdout",
     "output_type": "stream",
     "text": [
      "../1_PlateSelection/20190603_BM3PostdilutionConcCheck.csv\n"
     ]
    },
    {
     "data": {
      "text/html": [
       "<div>\n",
       "<style scoped>\n",
       "    .dataframe tbody tr th:only-of-type {\n",
       "        vertical-align: middle;\n",
       "    }\n",
       "\n",
       "    .dataframe tbody tr th {\n",
       "        vertical-align: top;\n",
       "    }\n",
       "\n",
       "    .dataframe thead th {\n",
       "        text-align: right;\n",
       "    }\n",
       "</style>\n",
       "<table border=\"1\" class=\"dataframe\">\n",
       "  <thead>\n",
       "    <tr style=\"text-align: right;\">\n",
       "      <th></th>\n",
       "      <th>baseline</th>\n",
       "      <th>bm3wthemeDil2uM</th>\n",
       "      <th>bm3wthemeDil5uM1</th>\n",
       "      <th>bm3wthemeDil10uM</th>\n",
       "    </tr>\n",
       "  </thead>\n",
       "  <tbody>\n",
       "    <tr>\n",
       "      <th>1</th>\n",
       "      <td>-0.0005947110476</td>\n",
       "      <td>0.003252059221</td>\n",
       "      <td>0.003194790101</td>\n",
       "      <td>0.004799798597</td>\n",
       "    </tr>\n",
       "    <tr>\n",
       "      <th>2</th>\n",
       "      <td>-8.665757923E-005</td>\n",
       "      <td>0.004196888767</td>\n",
       "      <td>0.004164531827</td>\n",
       "      <td>0.006426838692</td>\n",
       "    </tr>\n",
       "    <tr>\n",
       "      <th>3</th>\n",
       "      <td>0.001331412699</td>\n",
       "      <td>0.004117882811</td>\n",
       "      <td>0.002651162446</td>\n",
       "      <td>0.005109281279</td>\n",
       "    </tr>\n",
       "    <tr>\n",
       "      <th>4</th>\n",
       "      <td>-0.0004413385177</td>\n",
       "      <td>0.001250459929</td>\n",
       "      <td>0.003601000411</td>\n",
       "      <td>0.004341138527</td>\n",
       "    </tr>\n",
       "    <tr>\n",
       "      <th>5</th>\n",
       "      <td>0.00115836144</td>\n",
       "      <td>0.00373902102</td>\n",
       "      <td>0.003442175919</td>\n",
       "      <td>0.005009002518</td>\n",
       "    </tr>\n",
       "  </tbody>\n",
       "</table>\n",
       "</div>"
      ],
      "text/plain": [
       "            baseline bm3wthemeDil2uM bm3wthemeDil5uM1 bm3wthemeDil10uM\n",
       "1   -0.0005947110476  0.003252059221   0.003194790101   0.004799798597\n",
       "2  -8.665757923E-005  0.004196888767   0.004164531827   0.006426838692\n",
       "3     0.001331412699  0.004117882811   0.002651162446   0.005109281279\n",
       "4   -0.0004413385177  0.001250459929   0.003601000411   0.004341138527\n",
       "5      0.00115836144   0.00373902102   0.003442175919   0.005009002518"
      ]
     },
     "execution_count": 11,
     "metadata": {},
     "output_type": "execute_result"
    }
   ],
   "source": [
    "print(spec_data_file_paths[0])\n",
    "parse_spec(spec_data_file_paths[0]).head()"
   ]
  },
  {
   "cell_type": "markdown",
   "id": "119d2d6b-9f8d-4764-9179-42cf40f2a21c",
   "metadata": {},
   "source": [
    "## Get metadata from each plate\n",
    "\n",
    "- what are they?\n",
    "- what we assessing? subjective quality?"
   ]
  },
  {
   "cell_type": "code",
   "execution_count": 15,
   "id": "4d67a586-c411-4d94-a163-1403046f9021",
   "metadata": {},
   "outputs": [
    {
     "data": {
      "text/plain": [
       "['../1_PlateSelection/36640.CSV',\n",
       " '../1_PlateSelection/36640_2.CSV',\n",
       " '../1_PlateSelection/3770bc.CSV',\n",
       " '../1_PlateSelection/3770bc_2.CSV',\n",
       " '../1_PlateSelection/464718.CSV',\n",
       " '../1_PlateSelection/464718_2.CSV',\n",
       " '../1_PlateSelection/761860.CSV',\n",
       " '../1_PlateSelection/761860_2.CSV',\n",
       " '../1_PlateSelection/781620.CSV',\n",
       " '../1_PlateSelection/781620_2.CSV',\n",
       " '../1_PlateSelection/DELTA.CSV',\n",
       " '../1_PlateSelection/DELTA_2.CSV']"
      ]
     },
     "execution_count": 15,
     "metadata": {},
     "output_type": "execute_result"
    }
   ],
   "source": [
    "plate_paths = [i for i in csv_paths if 'BM3' not in i]\n",
    "plate_paths"
   ]
  },
  {
   "cell_type": "code",
   "execution_count": null,
   "id": "8cc579e5-fb7f-4c9e-bf89-86d31338a4a9",
   "metadata": {
    "editable": true,
    "slideshow": {
     "slide_type": ""
    },
    "tags": []
   },
   "outputs": [],
   "source": [
    "def parse_bmg(path: str) -> pd.DataFrame:\n",
    "    # find header\n",
    "    with open(path, 'r') as f:\n",
    "        for row_num, row in enumerate(f):\n",
    "            if  len(row.split(',')) > 500:\n",
    "                break\n",
    "    df = pd.read_csv(path, skiprows=row_num)\n",
    "    df.index = [f'{i}{j}'.replace('.0','') for i, j in zip(df['Well Row'], df['Well Col']) ]\n",
    "    df = df.dropna(axis=1)\n",
    "    df = df.iloc[1:, 3:]\n",
    "    df.columns = df.columns.str.extract('([0-9]+)')[0]\n",
    "    return df\n",
    "\n",
    "df = parse_bmg(plate_paths[0])\n",
    "\n",
    "dfJKJ"
   ]
  }
 ],
 "metadata": {
  "kernelspec": {
   "display_name": "Python 3 (ipykernel)",
   "language": "python",
   "name": "python3"
  },
  "language_info": {
   "codemirror_mode": {
    "name": "ipython",
    "version": 3
   },
   "file_extension": ".py",
   "mimetype": "text/x-python",
   "name": "python",
   "nbconvert_exporter": "python",
   "pygments_lexer": "ipython3",
   "version": "3.10.12"
  }
 },
 "nbformat": 4,
 "nbformat_minor": 5
}
