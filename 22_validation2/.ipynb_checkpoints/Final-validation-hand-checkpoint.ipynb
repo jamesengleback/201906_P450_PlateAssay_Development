{
 "cells": [
  {
   "cell_type": "markdown",
   "metadata": {},
   "source": [
    "# Assay validation/final optimization\n",
    "## background\n",
    "I've looked at a lot of parameters for this assay and the two most important are volume and enzyme concentration - both of which affect signal strength which is the factor that limits sensitivity of the assay. I also really need to choose some parameters and start screening. This experiment aims to do a final - thesis quality optimization experiment & at the same time make some titration data to validate the assay against.\n",
    "\n",
    "## aim\n",
    "- find a combination of volume & enzyme concentration that maximises signal strength, accuracy and sensitivity whilst minimising volume (to save cost)\n",
    "- compare assay results to titration data for validation & also a baseline to measure accuracy and sensitivity\n",
    "\n",
    "## fixed parameters\n",
    "- buffer - 100 mM KPi, pH 7 (no additives)\n",
    "- %DMSO v/v - 5%\n",
    "- K - 3\n",
    "\n",
    "## free parameters\n",
    "- volume - ```[20, 30, 40]``` - path length affects signal strength, but large volumes require more compound\n",
    "- [enzyme] - ```[10,15,20]``` - high concentrations give a strong signal, but stochiometry becomes a concern\n",
    "\n",
    "## targets\n",
    "- **accuracy vs titrations - kd** - kd varies a lot in literature, I think I'll use pearsons' R for this\n",
    "- **sensitivity vs titrations** some compounds give a very small spin shift, which may limit detection in my assay. I expect accuracy to decrease with % spin shift and I need a limit of detection so the target will be: ```accuracy / %spin shift```\n",
    "\n",
    "## compounds\n",
    "- arachadonic acid\n",
    "- lauric acid\n",
    "- palmitic acid\n",
    "- 4-phenyl imidazole\n",
    "- sds\n",
    "\n",
    "## hand-prepped version\n",
    "- in case I can't access the equipment I need to automate the assay, I'll be testing the assay by hand first. \n",
    "### hand-prep protocol\n",
    "- make protein and buffer stocks in troughs/something suitable for dispensing\n",
    "- serial dilute compounds in 96 well plates in DMSO \n",
    "    - k = 3 \n",
    "    - max conc\n",
    "- dispense compounds in columns with a multichanel - 1 column should contain 2 of every conc - 1 for enzyme and 1 for buffer blank, so \n",
    "```python\n",
    "{'A1': 'enzyme + compound 0µM', \n",
    " 'B1':'buffer + compound 0 µM',\n",
    " 'C1': 'enzyme + compound x µM',\n",
    " 'D1': 'buffer + compound x µM',\n",
    " ...\n",
    "}\n",
    "```\n",
    "Below I've designed the experiment by iterating throuh all combinations of the three volumes and concentrations I chose. I've re-named the index of the design dataframe accoring to plate ```1&2``` and the column the experiment is in."
   ]
  },
  {
   "cell_type": "code",
   "execution_count": 11,
   "metadata": {},
   "outputs": [
    {
     "name": "stdout",
     "output_type": "stream",
     "text": [
      "36\n"
     ]
    },
    {
     "data": {
      "text/html": [
       "<div>\n",
       "<style scoped>\n",
       "    .dataframe tbody tr th:only-of-type {\n",
       "        vertical-align: middle;\n",
       "    }\n",
       "\n",
       "    .dataframe tbody tr th {\n",
       "        vertical-align: top;\n",
       "    }\n",
       "\n",
       "    .dataframe thead th {\n",
       "        text-align: right;\n",
       "    }\n",
       "</style>\n",
       "<table border=\"1\" class=\"dataframe\">\n",
       "  <thead>\n",
       "    <tr style=\"text-align: right;\">\n",
       "      <th></th>\n",
       "      <th>conc</th>\n",
       "      <th>vol</th>\n",
       "      <th>cpd</th>\n",
       "    </tr>\n",
       "  </thead>\n",
       "  <tbody>\n",
       "    <tr>\n",
       "      <th>P1:1</th>\n",
       "      <td>10</td>\n",
       "      <td>20</td>\n",
       "      <td>aracadionic acid</td>\n",
       "    </tr>\n",
       "    <tr>\n",
       "      <th>P1:2</th>\n",
       "      <td>10</td>\n",
       "      <td>20</td>\n",
       "      <td>lauric</td>\n",
       "    </tr>\n",
       "    <tr>\n",
       "      <th>P1:3</th>\n",
       "      <td>10</td>\n",
       "      <td>20</td>\n",
       "      <td>palmitic</td>\n",
       "    </tr>\n",
       "    <tr>\n",
       "      <th>P1:4</th>\n",
       "      <td>10</td>\n",
       "      <td>20</td>\n",
       "      <td>4-Ph</td>\n",
       "    </tr>\n",
       "    <tr>\n",
       "      <th>P1:5</th>\n",
       "      <td>10</td>\n",
       "      <td>30</td>\n",
       "      <td>aracadionic acid</td>\n",
       "    </tr>\n",
       "  </tbody>\n",
       "</table>\n",
       "</div>"
      ],
      "text/plain": [
       "      conc  vol               cpd\n",
       "P1:1    10   20  aracadionic acid\n",
       "P1:2    10   20            lauric\n",
       "P1:3    10   20          palmitic\n",
       "P1:4    10   20              4-Ph\n",
       "P1:5    10   30  aracadionic acid"
      ]
     },
     "execution_count": 11,
     "metadata": {},
     "output_type": "execute_result"
    }
   ],
   "source": [
    "import pandas as pd\n",
    "\n",
    "concs = [10,15,20]\n",
    "vols = [20,30,40]\n",
    "cpds = ['aracadionic acid','lauric','palmitic','4-Ph']\n",
    "design = pd.DataFrame([{'conc':i,'vol':j, 'cpd':k} for i in concs for j in vols for k in cpds])\n",
    "print(len(design))\n",
    "design.index = [i+str(j) for i in ['P1:', 'P2:'] for j in range(1,25)][:len(design)]\n",
    "design.head()"
   ]
  },
  {
   "cell_type": "markdown",
   "metadata": {},
   "source": [
    "### K values & serial dilution\n",
    "The K value determines the distribution of compound concentrations: ```k=1``` evenly spaces compound concentrations between a min and a max; ```k=3``` bunches the concentations near zero. I've previously found that a high ```k``` is good for accuracy - especially if the $k_d$ is low. A low $k$ also reduces the ammount of compound needed. ```k=3``` is almost as high as I can go without getting concentrations the echo can't dispense (<2.5 nl in a 20µl well). ```k=3``` is what I've settled on for the automated version of the assay, so I'll use it here.\n",
    "### how it looks\n",
    "I've plotted how different ```k``` values look with different $k_d$ and $v_{max}$'s & also how much compund is consumed in that case"
   ]
  },
  {
   "cell_type": "code",
   "execution_count": 12,
   "metadata": {},
   "outputs": [
    {
     "data": {
      "image/png": "[encoded data removed]",
      "text/plain": [
       "<Figure size 432x288 with 1 Axes>"
      ]
     },
     "metadata": {
      "needs_background": "light"
     },
     "output_type": "display_data"
    }
   ],
   "source": [
    "import numpy as np\n",
    "import matplotlib.pyplot as plt\n",
    "\n",
    "def make_concs(max_conc, n, k):\n",
    "    return (np.linspace(0, 1,n ) ** k) * max_conc\n",
    "\n",
    "def michaelis_menten(vmax, km, s):\n",
    "    return (vmax * s) / (km + s) # v\n",
    "\n",
    "x = np.linspace(0,1000,50)\n",
    "labels = []\n",
    "for K in [1,2,3]:\n",
    "    VMAX = np.random.uniform(0.8,1.4)\n",
    "    KM = np.random.uniform(5,500)\n",
    "    concs = make_concs(500, 8, K)\n",
    "    labels.append(f'vmax = {round(VMAX,2)} km = {round(KM,2)} k = {K} cpd = {round(sum(concs),2)}')\n",
    "    plt.plot(x, [michaelis_menten(VMAX, KM, i) for i in x])\n",
    "    plt.vlines(x=KM,ymin=0,ymax=michaelis_menten(VMAX,KM,KM),linestyle='--',alpha=0.5,lw=1)\n",
    "    plt.hlines(y=VMAX,xmin=0,xmax=x.max(),linestyle='--',alpha = 0.5,lw=1)\n",
    "    plt.scatter(concs,[michaelis_menten(VMAX, KM, i) for i in concs])\n",
    "plt.xlabel('[S]')\n",
    "plt.ylabel('v')\n",
    "plt.legend(labels)\n",
    "plt.show()"
   ]
  },
  {
   "cell_type": "code",
   "execution_count": 13,
   "metadata": {},
   "outputs": [
    {
     "data": {
      "image/png": "[encoded data removed]",
      "text/plain": [
       "<Figure size 432x288 with 1 Axes>"
      ]
     },
     "metadata": {
      "needs_background": "light"
     },
     "output_type": "display_data"
    }
   ],
   "source": [
    "k_range = np.linspace(1,4,100)\n",
    "plt.plot(k_range,\n",
    "         [sum(make_concs(500, 8, K)) for K in k_range])\n",
    "plt.xlabel('K')\n",
    "plt.ylabel('Total compound used')\n",
    "plt.xticks([1,2,3,4])\n",
    "plt.show()"
   ]
  },
  {
   "cell_type": "markdown",
   "metadata": {},
   "source": [
    "# serial dilution\n",
    "I'm going to see how closely I can mimic ```k=3``` with serial dilutions. Below I set out a function that makes a list of serial dilution concentrations, and optimize the dilution factor so the Mean squared difference between the target: ```make_concs(max_conc=500,n=8,k=3)``` is minimized."
   ]
  },
  {
   "cell_type": "code",
   "execution_count": 14,
   "metadata": {},
   "outputs": [
    {
     "data": {
      "text/plain": [
       "[1.953125, 3.90625, 7.8125, 15.625, 31.25, 62.5, 125.0, 250.0, 500]"
      ]
     },
     "execution_count": 14,
     "metadata": {},
     "output_type": "execute_result"
    }
   ],
   "source": [
    "def frac_dilution(frac, n, max_conc):\n",
    "    o = [max_conc]\n",
    "    for i in range(n):\n",
    "        o.append(o[-1] * frac)\n",
    "    return o[::-1] # reverse\n",
    "\n",
    "frac_dilution(0.5, 8, 500)"
   ]
  },
  {
   "cell_type": "code",
   "execution_count": 15,
   "metadata": {},
   "outputs": [
    {
     "data": {
      "image/png": "[encoded data removed]",
      "text/plain": [
       "<Figure size 432x288 with 1 Axes>"
      ]
     },
     "metadata": {
      "needs_background": "light"
     },
     "output_type": "display_data"
    }
   ],
   "source": [
    "from scipy import optimize # ott \n",
    "\n",
    "diff = lambda a,b : sum([abs(a-b) for a,b in zip(a,b)]) ** 2 # mse\n",
    "target = make_concs(500,8,3)\n",
    "\n",
    "def objective(frac):\n",
    "    return diff(frac_dilution(frac,8,500), target)\n",
    "\n",
    "r = optimize.minimize(objective, x0=0.5)\n",
    "opt = r.x\n",
    "\n",
    "xrange = np.linspace(0,1,100)\n",
    "plt.plot(xrange, [objective(i) for i in xrange])\n",
    "plt.vlines(x = opt, ymin=0, ymax = objective(1), linestyle='--',alpha=0.5)\n",
    "plt.text(0.4,1e6,f'min = {round(opt.item(), 2)}')\n",
    "plt.xlabel('dilution factor')\n",
    "plt.ylabel('')\n",
    "plt.show()"
   ]
  },
  {
   "cell_type": "markdown",
   "metadata": {},
   "source": [
    "## dilution factor =```0.6```\n",
    "I'll make:\n",
    "- > 7.2 ml of ```[10, 15, 20]``` µM enzyme\n",
    "- > 360 µl of each substrate concentration"
   ]
  },
  {
   "cell_type": "code",
   "execution_count": 16,
   "metadata": {},
   "outputs": [
    {
     "name": "stdout",
     "output_type": "stream",
     "text": [
      "[enzyme]: 10 µM \t total vol: 360 µl\n",
      "[enzyme]: 15 µM \t total vol: 360 µl\n",
      "[enzyme]: 20 µM \t total vol: 360 µl\n"
     ]
    }
   ],
   "source": [
    "# vol of each enzyme stock needed\n",
    "for i in design['conc'].unique():\n",
    "    print(f\"[enzyme]: {i} µM \\t total vol: {design.loc[design['conc'] == i, 'vol'].sum()} µl\")"
   ]
  },
  {
   "cell_type": "code",
   "execution_count": 17,
   "metadata": {},
   "outputs": [
    {
     "name": "stdout",
     "output_type": "stream",
     "text": [
      "substrate: aracadionic acid \t total vol: 27.0 µl\n",
      "substrate: lauric \t total vol: 27.0 µl\n",
      "substrate: palmitic \t total vol: 27.0 µl\n",
      "substrate: 4-Ph \t total vol: 27.0 µl\n"
     ]
    }
   ],
   "source": [
    "# vol of each substrate conc\n",
    "for i in design['cpd'].unique():\n",
    "    # 5% v/v dmso * 2 wells (controls)\n",
    "    print(f\"substrate: {i} \\t total vol: {design.loc[design['cpd'] == i, 'vol'].sum() * 0.05 * 2} µl\")"
   ]
  },
  {
   "cell_type": "code",
   "execution_count": 18,
   "metadata": {},
   "outputs": [
    {
     "data": {
      "text/html": [
       "<div>\n",
       "<style scoped>\n",
       "    .dataframe tbody tr th:only-of-type {\n",
       "        vertical-align: middle;\n",
       "    }\n",
       "\n",
       "    .dataframe tbody tr th {\n",
       "        vertical-align: top;\n",
       "    }\n",
       "\n",
       "    .dataframe thead th {\n",
       "        text-align: right;\n",
       "    }\n",
       "</style>\n",
       "<table border=\"1\" class=\"dataframe\">\n",
       "  <thead>\n",
       "    <tr style=\"text-align: right;\">\n",
       "      <th></th>\n",
       "      <th>vol cpd</th>\n",
       "    </tr>\n",
       "  </thead>\n",
       "  <tbody>\n",
       "    <tr>\n",
       "      <th>20 µl</th>\n",
       "      <td>1.0</td>\n",
       "    </tr>\n",
       "    <tr>\n",
       "      <th>30 µl</th>\n",
       "      <td>1.5</td>\n",
       "    </tr>\n",
       "    <tr>\n",
       "      <th>40 µl</th>\n",
       "      <td>2.0</td>\n",
       "    </tr>\n",
       "  </tbody>\n",
       "</table>\n",
       "</div>"
      ],
      "text/plain": [
       "       vol cpd\n",
       "20 µl      1.0\n",
       "30 µl      1.5\n",
       "40 µl      2.0"
      ]
     },
     "execution_count": 18,
     "metadata": {},
     "output_type": "execute_result"
    }
   ],
   "source": [
    "unique_vols = design['vol'].unique() \n",
    "pd.DataFrame(unique_vols * 0.05, \n",
    "             index = [f'{i} µl' for i in unique_vols], \n",
    "             columns = ['vol cpd'])"
   ]
  },
  {
   "cell_type": "code",
   "execution_count": 33,
   "metadata": {},
   "outputs": [
    {
     "data": {
      "text/plain": [
       "aracadionic acid    0.030450\n",
       "lauric              0.020032\n",
       "palmitic            0.025642\n",
       "4-Ph                0.017624\n",
       "dtype: float64"
      ]
     },
     "execution_count": 33,
     "metadata": {},
     "output_type": "execute_result"
    }
   ],
   "source": [
    "mws = {'aracadionic acid':304.5 , 'lauric':200.32 , 'palmitic':256.42, '4-Ph':176.24}\n",
    "tgt_vol = 1000 # µl\n",
    "tgt_wt = lambda mw, tgtVol, tgtConc : mw * (tgtVol / 1e6 ) * (tgtConc / 1e3) # µl & mM\n",
    "\n",
    "tgt_wts = pd.Series({i:tgt_wt(mws[i], 1000, 100) for i in mws})\n",
    "tgt_wts"
   ]
  },
  {
   "cell_type": "code",
   "execution_count": 37,
   "metadata": {},
   "outputs": [
    {
     "data": {
      "text/plain": [
       "aracadionic acid    1152.709360\n",
       "lauric               978.434505\n",
       "palmitic            1017.861321\n",
       "4-Ph                 817.067635\n",
       "dtype: float64"
      ]
     },
     "execution_count": 37,
     "metadata": {},
     "output_type": "execute_result"
    }
   ],
   "source": [
    "actual_wts = pd.Series({'aracadionic acid':0.0351 , 'lauric':0.0196 , 'palmitic':0.0261, '4-Ph':0.0144})\n",
    "\n",
    "(actual_wts / tgt_wts) * 1000 # vol to add in µl"
   ]
  }
 ],
 "metadata": {
  "kernelspec": {
   "display_name": "Python 3",
   "language": "python",
   "name": "python3"
  },
  "language_info": {
   "codemirror_mode": {
    "name": "ipython",
    "version": 3
   },
   "file_extension": ".py",
   "mimetype": "text/x-python",
   "name": "python",
   "nbconvert_exporter": "python",
   "pygments_lexer": "ipython3",
   "version": "3.7.6"
  }
 },
 "nbformat": 4,
 "nbformat_minor": 4
}
