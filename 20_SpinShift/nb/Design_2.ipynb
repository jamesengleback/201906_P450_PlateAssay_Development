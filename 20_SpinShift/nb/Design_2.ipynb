{
 "cells": [
  {
   "cell_type": "code",
   "execution_count": 2,
   "metadata": {},
   "outputs": [
    {
     "name": "stdout",
     "output_type": "stream",
     "text": [
      "Stock Conc:\t740.9312 µM\n",
      "134.97 µl of stock 5 ml for 10 µM BM3\n",
      "67.48 µl of stock 5 ml for 5 µM BM3\n"
     ]
    }
   ],
   "source": [
    "# the trace was from protein diluted 5 in 1000, so the actual conc is\n",
    "stock = 3.704656 /(5/1000)\n",
    "print('Stock Conc:\\t{} µM'.format(stock))\n",
    "\n",
    "def V1(V2,C1,C2):\n",
    "    return (C2*V2)/C1\n",
    "\n",
    "# 5 mls of each should do\n",
    "print('{} µl of stock 5 ml for 10 µM BM3'.format(round(V1(10_000,stock,10),2)))\n",
    "print('{} µl of stock 5 ml for 5 µM BM3'.format(round(V1(10_000,stock,5),2)))"
   ]
  },
  {
   "cell_type": "code",
   "execution_count": 15,
   "metadata": {},
   "outputs": [],
   "source": [
    "from PlateObjects import SourcePlateCompound, AssayPlate, Block\n",
    "\n",
    "aracadonic = SourcePlateCompound('Arachadonic acid',['O'+str(i) for i in range(1,8)],ldv=False)\n",
    "DMSO = SourcePlateCompound('DMSO',['P'+str(i) for i in range(1,15)],ldv=False)\n",
    "\n",
    "assayplate1 = AssayPlate()\n",
    "assayplate2 = AssayPlate()\n",
    "assayplate3 = AssayPlate()\n",
    "\n",
    "for vol in [20,30,40]:\n",
    "    for repeat in range(8):\n",
    "        block1 = Block(aracadonic,DMSO,vol)\n",
    "        assayplate1.AddBlocks(block1)\n",
    "        \n",
    "        block2 = Block(aracadonic,DMSO,vol)\n",
    "        assayplate2.AddBlocks(block2)\n",
    "        \n",
    "        block3 = Block(aracadonic,DMSO,vol)\n",
    "        assayplate3.AddBlocks(block3)\n",
    "\n",
    "\n",
    "assayplate1.MapWells()\n",
    "assayplate2.MapWells()\n",
    "assayplate3.MapWells()\n",
    "\n",
    "transferMap1 = assayplate1.TransferPlan\n",
    "transferMap2 = assayplate2.TransferPlan\n",
    "transferMap3 = assayplate3.TransferPlan\n",
    "\n",
    "transferMap1 = transferMap1.loc[transferMap1['Volume']>0]\n",
    "transferMap2 = transferMap2.loc[transferMap2['Volume']>0]\n",
    "transferMap3 = transferMap3.loc[transferMap3['Volume']>0]\n",
    "\n",
    "transferMap1.to_csv('20191219_transferMap1.csv')\n",
    "transferMap2.to_csv('20191219_transferMap2.csv')\n",
    "transferMap3.to_csv('20191219_transferMap3.csv')\n"
   ]
  }
 ],
 "metadata": {
  "kernelspec": {
   "display_name": "Python 3",
   "language": "python",
   "name": "python3"
  },
  "language_info": {
   "codemirror_mode": {
    "name": "ipython",
    "version": 3
   },
   "file_extension": ".py",
   "mimetype": "text/x-python",
   "name": "python",
   "nbconvert_exporter": "python",
   "pygments_lexer": "ipython3",
   "version": "3.7.3"
  }
 },
 "nbformat": 4,
 "nbformat_minor": 2
}
