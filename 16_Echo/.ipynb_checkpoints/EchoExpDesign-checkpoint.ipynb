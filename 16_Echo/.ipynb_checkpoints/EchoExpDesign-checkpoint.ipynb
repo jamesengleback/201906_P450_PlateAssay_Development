{
 "cells": [
  {
   "cell_type": "code",
   "execution_count": 2,
   "metadata": {},
   "outputs": [
    {
     "name": "stdout",
     "output_type": "stream",
     "text": [
      "Help on function fracfact in module pyDOE.doe_factorial:\n",
      "\n",
      "fracfact(gen)\n",
      "    Create a 2-level fractional-factorial design with a generator string.\n",
      "    \n",
      "    Parameters\n",
      "    ----------\n",
      "    gen : str\n",
      "        A string, consisting of lowercase, uppercase letters or operators \"-\"\n",
      "        and \"+\", indicating the factors of the experiment\n",
      "    \n",
      "    Returns\n",
      "    -------\n",
      "    H : 2d-array\n",
      "        A m-by-n matrix, the fractional factorial design. m is 2^k, where k\n",
      "        is the number of letters in ``gen``, and n is the total number of\n",
      "        entries in ``gen``.\n",
      "    \n",
      "    Notes\n",
      "    -----\n",
      "    In ``gen`` we define the main factors of the experiment and the factors\n",
      "    whose levels are the products of the main factors. For example, if\n",
      "    \n",
      "        gen = \"a b ab\"\n",
      "    \n",
      "    then \"a\" and \"b\" are the main factors, while the 3rd factor is the product\n",
      "    of the first two. If we input uppercase letters in ``gen``, we get the same\n",
      "    result. We can also use the operators \"+\" and \"-\" in ``gen``.\n",
      "    \n",
      "    For example, if\n",
      "    \n",
      "        gen = \"a b -ab\"\n",
      "    \n",
      "    then the 3rd factor is the opposite of the product of \"a\" and \"b\".\n",
      "    \n",
      "    The output matrix includes the two level full factorial design, built by\n",
      "    the main factors of ``gen``, and the products of the main factors. The\n",
      "    columns of ``H`` follow the sequence of ``gen``.\n",
      "    \n",
      "    For example, if\n",
      "    \n",
      "        gen = \"a b ab c\"\n",
      "    \n",
      "    then columns H[:, 0], H[:, 1], and H[:, 3] include the two level full\n",
      "    factorial design and H[:, 2] includes the products of the main factors.\n",
      "    \n",
      "    Examples\n",
      "    --------\n",
      "    ::\n",
      "    \n",
      "        >>> fracfact(\"a b ab\")\n",
      "        array([[-1., -1.,  1.],\n",
      "               [ 1., -1., -1.],\n",
      "               [-1.,  1., -1.],\n",
      "               [ 1.,  1.,  1.]])\n",
      "       \n",
      "        >>> fracfact(\"A B AB\")\n",
      "        array([[-1., -1.,  1.],\n",
      "               [ 1., -1., -1.],\n",
      "               [-1.,  1., -1.],\n",
      "               [ 1.,  1.,  1.]])\n",
      "        \n",
      "        >>> fracfact(\"a b -ab c +abc\")\n",
      "        array([[-1., -1., -1., -1., -1.],\n",
      "               [ 1., -1.,  1., -1.,  1.],\n",
      "               [-1.,  1.,  1., -1.,  1.],\n",
      "               [ 1.,  1., -1., -1., -1.],\n",
      "               [-1., -1., -1.,  1.,  1.],\n",
      "               [ 1., -1.,  1.,  1., -1.],\n",
      "               [-1.,  1.,  1.,  1., -1.],\n",
      "               [ 1.,  1., -1.,  1.,  1.]])\n",
      "\n"
     ]
    }
   ],
   "source": [
    "import pandas as pd\n",
    "from pyDOE import fracfact\n",
    "\n",
    "\n",
    "help(fracfact)"
   ]
  }
 ],
 "metadata": {
  "kernelspec": {
   "display_name": "Python 3",
   "language": "python",
   "name": "python3"
  },
  "language_info": {
   "codemirror_mode": {
    "name": "ipython",
    "version": 3
   },
   "file_extension": ".py",
   "mimetype": "text/x-python",
   "name": "python",
   "nbconvert_exporter": "python",
   "pygments_lexer": "ipython3",
   "version": "3.7.3"
  }
 },
 "nbformat": 4,
 "nbformat_minor": 2
}
