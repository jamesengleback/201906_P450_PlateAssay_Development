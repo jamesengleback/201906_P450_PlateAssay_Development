{
 "cells": [
  {
   "cell_type": "code",
   "execution_count": 33,
   "metadata": {},
   "outputs": [
    {
     "data": {
      "text/plain": [
       "{'A2': 6, 'A3': 9}"
      ]
     },
     "execution_count": 33,
     "metadata": {},
     "output_type": "execute_result"
    }
   ],
   "source": [
    "import numpy as np\n",
    "\n",
    "class Compound():\n",
    "    def __init__(self,coumpound_name,wells):\n",
    "        self.compound = coumpound_name\n",
    "        self.MaxWellVol = 15\n",
    "        self.MinWellVol = 2\n",
    "        \n",
    "        self.wells = self.FillWells(wells)\n",
    "        \n",
    "    def FillWells(self,wells):\n",
    "        output = {}\n",
    "        for i in wells:\n",
    "            output[i] = self.MaxWellVol #ul\n",
    "        return output\n",
    "    \n",
    "    def AvailableVolume(self):\n",
    "        return sum(self.wells.values())\n",
    "    \n",
    "    def Sample(self,vol):\n",
    "        sample = {}\n",
    "        for well in self.wells:\n",
    "            if self.wells[well] > self.MinWellVol:\n",
    "                if vol < self.wells[well]:\n",
    "                    self.wells[well] -= vol\n",
    "                    sample[well] = vol\n",
    "                    vol -=vol\n",
    "                    break\n",
    "                else:\n",
    "                    sampleVol = self.wells[well]-self.MinWellVol\n",
    "                    sample[well] = sampleVol\n",
    "                    self.wells[well] -= sampleVol\n",
    "                    vol -= sampleVol\n",
    "        if vol !=0:\n",
    "            print('Vol not reached')\n",
    "        return sample\n",
    "\n",
    "\n",
    "dmso = Compound('DMSO',['A1','A2','A3'])  \n",
    "dmso.Sample(20)\n",
    "dmso.Sample(15)\n"
   ]
  }
 ],
 "metadata": {
  "kernelspec": {
   "display_name": "Python 3",
   "language": "python",
   "name": "python3"
  },
  "language_info": {
   "codemirror_mode": {
    "name": "ipython",
    "version": 3
   },
   "file_extension": ".py",
   "mimetype": "text/x-python",
   "name": "python",
   "nbconvert_exporter": "python",
   "pygments_lexer": "ipython3",
   "version": "3.7.6"
  }
 },
 "nbformat": 4,
 "nbformat_minor": 4
}
